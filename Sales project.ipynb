{
 "cells": [
  {
   "cell_type": "code",
   "execution_count": 289,
   "id": "064aa6e4",
   "metadata": {},
   "outputs": [
    {
     "data": {
      "text/html": [
       "<div>\n",
       "<style scoped>\n",
       "    .dataframe tbody tr th:only-of-type {\n",
       "        vertical-align: middle;\n",
       "    }\n",
       "\n",
       "    .dataframe tbody tr th {\n",
       "        vertical-align: top;\n",
       "    }\n",
       "\n",
       "    .dataframe thead th {\n",
       "        text-align: right;\n",
       "    }\n",
       "</style>\n",
       "<table border=\"1\" class=\"dataframe\">\n",
       "  <thead>\n",
       "    <tr style=\"text-align: right;\">\n",
       "      <th></th>\n",
       "      <th>Unnamed: 0</th>\n",
       "      <th>TV</th>\n",
       "      <th>radio</th>\n",
       "      <th>newspaper</th>\n",
       "      <th>sales</th>\n",
       "    </tr>\n",
       "  </thead>\n",
       "  <tbody>\n",
       "    <tr>\n",
       "      <th>0</th>\n",
       "      <td>1</td>\n",
       "      <td>230.1</td>\n",
       "      <td>37.8</td>\n",
       "      <td>69.2</td>\n",
       "      <td>22.1</td>\n",
       "    </tr>\n",
       "    <tr>\n",
       "      <th>1</th>\n",
       "      <td>2</td>\n",
       "      <td>44.5</td>\n",
       "      <td>39.3</td>\n",
       "      <td>45.1</td>\n",
       "      <td>10.4</td>\n",
       "    </tr>\n",
       "    <tr>\n",
       "      <th>2</th>\n",
       "      <td>3</td>\n",
       "      <td>17.2</td>\n",
       "      <td>45.9</td>\n",
       "      <td>69.3</td>\n",
       "      <td>9.3</td>\n",
       "    </tr>\n",
       "    <tr>\n",
       "      <th>3</th>\n",
       "      <td>4</td>\n",
       "      <td>151.5</td>\n",
       "      <td>41.3</td>\n",
       "      <td>58.5</td>\n",
       "      <td>18.5</td>\n",
       "    </tr>\n",
       "    <tr>\n",
       "      <th>4</th>\n",
       "      <td>5</td>\n",
       "      <td>180.8</td>\n",
       "      <td>10.8</td>\n",
       "      <td>58.4</td>\n",
       "      <td>12.9</td>\n",
       "    </tr>\n",
       "    <tr>\n",
       "      <th>...</th>\n",
       "      <td>...</td>\n",
       "      <td>...</td>\n",
       "      <td>...</td>\n",
       "      <td>...</td>\n",
       "      <td>...</td>\n",
       "    </tr>\n",
       "    <tr>\n",
       "      <th>195</th>\n",
       "      <td>196</td>\n",
       "      <td>38.2</td>\n",
       "      <td>3.7</td>\n",
       "      <td>13.8</td>\n",
       "      <td>7.6</td>\n",
       "    </tr>\n",
       "    <tr>\n",
       "      <th>196</th>\n",
       "      <td>197</td>\n",
       "      <td>94.2</td>\n",
       "      <td>4.9</td>\n",
       "      <td>8.1</td>\n",
       "      <td>9.7</td>\n",
       "    </tr>\n",
       "    <tr>\n",
       "      <th>197</th>\n",
       "      <td>198</td>\n",
       "      <td>177.0</td>\n",
       "      <td>9.3</td>\n",
       "      <td>6.4</td>\n",
       "      <td>12.8</td>\n",
       "    </tr>\n",
       "    <tr>\n",
       "      <th>198</th>\n",
       "      <td>199</td>\n",
       "      <td>283.6</td>\n",
       "      <td>42.0</td>\n",
       "      <td>66.2</td>\n",
       "      <td>25.5</td>\n",
       "    </tr>\n",
       "    <tr>\n",
       "      <th>199</th>\n",
       "      <td>200</td>\n",
       "      <td>232.1</td>\n",
       "      <td>8.6</td>\n",
       "      <td>8.7</td>\n",
       "      <td>13.4</td>\n",
       "    </tr>\n",
       "  </tbody>\n",
       "</table>\n",
       "<p>200 rows × 5 columns</p>\n",
       "</div>"
      ],
      "text/plain": [
       "     Unnamed: 0     TV  radio  newspaper  sales\n",
       "0             1  230.1   37.8       69.2   22.1\n",
       "1             2   44.5   39.3       45.1   10.4\n",
       "2             3   17.2   45.9       69.3    9.3\n",
       "3             4  151.5   41.3       58.5   18.5\n",
       "4             5  180.8   10.8       58.4   12.9\n",
       "..          ...    ...    ...        ...    ...\n",
       "195         196   38.2    3.7       13.8    7.6\n",
       "196         197   94.2    4.9        8.1    9.7\n",
       "197         198  177.0    9.3        6.4   12.8\n",
       "198         199  283.6   42.0       66.2   25.5\n",
       "199         200  232.1    8.6        8.7   13.4\n",
       "\n",
       "[200 rows x 5 columns]"
      ]
     },
     "execution_count": 289,
     "metadata": {},
     "output_type": "execute_result"
    }
   ],
   "source": [
    "#load the data\n",
    "\n",
    "import pandas as pd\n",
    "\n",
    "sales=pd.read_csv(r\"https://raw.githubusercontent.com/dsrscientist/DSData/master/Advertising.csv\")\n",
    "sales"
   ]
  },
  {
   "cell_type": "code",
   "execution_count": 290,
   "id": "15ebd0f7",
   "metadata": {},
   "outputs": [
    {
     "data": {
      "text/plain": [
       "Unnamed: 0    0\n",
       "TV            0\n",
       "radio         0\n",
       "newspaper     0\n",
       "sales         0\n",
       "dtype: int64"
      ]
     },
     "execution_count": 290,
     "metadata": {},
     "output_type": "execute_result"
    }
   ],
   "source": [
    "sales.isnull().sum()"
   ]
  },
  {
   "cell_type": "code",
   "execution_count": 327,
   "id": "64ba5918",
   "metadata": {},
   "outputs": [
    {
     "data": {
      "text/plain": [
       "TV           0\n",
       "radio        0\n",
       "newspaper    0\n",
       "sales        0\n",
       "dtype: int64"
      ]
     },
     "execution_count": 327,
     "metadata": {},
     "output_type": "execute_result"
    }
   ],
   "source": [
    "sales.isna().sum()"
   ]
  },
  {
   "cell_type": "code",
   "execution_count": 291,
   "id": "2319622a",
   "metadata": {},
   "outputs": [
    {
     "name": "stdout",
     "output_type": "stream",
     "text": [
      "<class 'pandas.core.frame.DataFrame'>\n",
      "RangeIndex: 200 entries, 0 to 199\n",
      "Data columns (total 5 columns):\n",
      " #   Column      Non-Null Count  Dtype  \n",
      "---  ------      --------------  -----  \n",
      " 0   Unnamed: 0  200 non-null    int64  \n",
      " 1   TV          200 non-null    float64\n",
      " 2   radio       200 non-null    float64\n",
      " 3   newspaper   200 non-null    float64\n",
      " 4   sales       200 non-null    float64\n",
      "dtypes: float64(4), int64(1)\n",
      "memory usage: 7.9 KB\n"
     ]
    }
   ],
   "source": [
    "sales.info()"
   ]
  },
  {
   "cell_type": "code",
   "execution_count": 292,
   "id": "ec03977f",
   "metadata": {},
   "outputs": [
    {
     "data": {
      "text/plain": [
       "Unnamed: 0      int64\n",
       "TV            float64\n",
       "radio         float64\n",
       "newspaper     float64\n",
       "sales         float64\n",
       "dtype: object"
      ]
     },
     "execution_count": 292,
     "metadata": {},
     "output_type": "execute_result"
    }
   ],
   "source": [
    "sales.dtypes"
   ]
  },
  {
   "cell_type": "code",
   "execution_count": 293,
   "id": "48ef7c5d",
   "metadata": {},
   "outputs": [
    {
     "data": {
      "text/plain": [
       "Index(['Unnamed: 0', 'TV', 'radio', 'newspaper', 'sales'], dtype='object')"
      ]
     },
     "execution_count": 293,
     "metadata": {},
     "output_type": "execute_result"
    }
   ],
   "source": [
    "sales.columns"
   ]
  },
  {
   "cell_type": "code",
   "execution_count": 294,
   "id": "7c9b625a",
   "metadata": {},
   "outputs": [],
   "source": [
    "import seaborn as sns\n",
    "import matplotlib.pyplot as plt"
   ]
  },
  {
   "cell_type": "code",
   "execution_count": 295,
   "id": "820d26fc",
   "metadata": {},
   "outputs": [
    {
     "data": {
      "text/plain": [
       "<AxesSubplot:>"
      ]
     },
     "execution_count": 295,
     "metadata": {},
     "output_type": "execute_result"
    },
    {
     "data": {
      "image/png": "[encoded data removed]",
      "text/plain": [
       "<Figure size 720x432 with 1 Axes>"
      ]
     },
     "metadata": {
      "needs_background": "light"
     },
     "output_type": "display_data"
    }
   ],
   "source": [
    "sales['TV'].hist(bins=40, figsize=(10,6))"
   ]
  },
  {
   "cell_type": "code",
   "execution_count": 296,
   "id": "c5ee3385",
   "metadata": {},
   "outputs": [
    {
     "data": {
      "text/plain": [
       "<AxesSubplot:>"
      ]
     },
     "execution_count": 296,
     "metadata": {},
     "output_type": "execute_result"
    },
    {
     "data": {
      "image/png": "[encoded data removed]",
      "text/plain": [
       "<Figure size 720x432 with 1 Axes>"
      ]
     },
     "metadata": {
      "needs_background": "light"
     },
     "output_type": "display_data"
    }
   ],
   "source": [
    "sales['radio'].hist(bins=40, figsize=(10,6))"
   ]
  },
  {
   "cell_type": "code",
   "execution_count": 297,
   "id": "bd4109aa",
   "metadata": {},
   "outputs": [
    {
     "data": {
      "text/plain": [
       "<AxesSubplot:>"
      ]
     },
     "execution_count": 297,
     "metadata": {},
     "output_type": "execute_result"
    },
    {
     "data": {
      "image/png": "[encoded data removed]",
      "text/plain": [
       "<Figure size 720x432 with 1 Axes>"
      ]
     },
     "metadata": {
      "needs_background": "light"
     },
     "output_type": "display_data"
    }
   ],
   "source": [
    "sales['newspaper'].hist(bins=40, figsize=(10,6))"
   ]
  },
  {
   "cell_type": "code",
   "execution_count": 298,
   "id": "9139557a",
   "metadata": {},
   "outputs": [
    {
     "data": {
      "text/plain": [
       "<AxesSubplot:xlabel='sales', ylabel='TV'>"
      ]
     },
     "execution_count": 298,
     "metadata": {},
     "output_type": "execute_result"
    },
    {
     "data": {
      "image/png": "[encoded data removed]",
      "text/plain": [
       "<Figure size 432x288 with 1 Axes>"
      ]
     },
     "metadata": {
      "needs_background": "light"
     },
     "output_type": "display_data"
    }
   ],
   "source": [
    "sns.scatterplot(x=\"sales\",y='TV',data=sales)"
   ]
  },
  {
   "cell_type": "code",
   "execution_count": 299,
   "id": "9017a43f",
   "metadata": {},
   "outputs": [
    {
     "data": {
      "text/plain": [
       "<AxesSubplot:xlabel='sales', ylabel='radio'>"
      ]
     },
     "execution_count": 299,
     "metadata": {},
     "output_type": "execute_result"
    },
    {
     "data": {
      "image/png": "[encoded data removed]",
      "text/plain": [
       "<Figure size 432x288 with 1 Axes>"
      ]
     },
     "metadata": {
      "needs_background": "light"
     },
     "output_type": "display_data"
    }
   ],
   "source": [
    "sns.scatterplot(x=\"sales\",y='radio',data=sales)"
   ]
  },
  {
   "cell_type": "code",
   "execution_count": 300,
   "id": "b9055747",
   "metadata": {},
   "outputs": [
    {
     "data": {
      "text/plain": [
       "<AxesSubplot:xlabel='sales', ylabel='newspaper'>"
      ]
     },
     "execution_count": 300,
     "metadata": {},
     "output_type": "execute_result"
    },
    {
     "data": {
      "image/png": "[encoded data removed]",
      "text/plain": [
       "<Figure size 432x288 with 1 Axes>"
      ]
     },
     "metadata": {
      "needs_background": "light"
     },
     "output_type": "display_data"
    }
   ],
   "source": [
    "sns.scatterplot(x=\"sales\",y='newspaper',data=sales)"
   ]
  },
  {
   "cell_type": "code",
   "execution_count": 301,
   "id": "35ab30b6",
   "metadata": {},
   "outputs": [
    {
     "data": {
      "text/plain": [
       "<AxesSubplot:xlabel='newspaper', ylabel='Density'>"
      ]
     },
     "execution_count": 301,
     "metadata": {},
     "output_type": "execute_result"
    },
    {
     "data": {
      "image/png": "[encoded data removed]",
      "text/plain": [
       "<Figure size 432x288 with 1 Axes>"
      ]
     },
     "metadata": {
      "needs_background": "light"
     },
     "output_type": "display_data"
    }
   ],
   "source": [
    "import warnings\n",
    "warnings.filterwarnings(\"ignore\")\n",
    "sns.distplot(sales['newspaper'])"
   ]
  },
  {
   "cell_type": "code",
   "execution_count": 302,
   "id": "3c782739",
   "metadata": {},
   "outputs": [
    {
     "data": {
      "text/plain": [
       "<AxesSubplot:xlabel='radio', ylabel='Density'>"
      ]
     },
     "execution_count": 302,
     "metadata": {},
     "output_type": "execute_result"
    },
    {
     "data": {
      "image/png": "[encoded data removed]",
      "text/plain": [
       "<Figure size 432x288 with 1 Axes>"
      ]
     },
     "metadata": {
      "needs_background": "light"
     },
     "output_type": "display_data"
    }
   ],
   "source": [
    "sns.distplot(sales['radio'])"
   ]
  },
  {
   "cell_type": "code",
   "execution_count": 303,
   "id": "b689fdc7",
   "metadata": {},
   "outputs": [
    {
     "data": {
      "text/plain": [
       "<AxesSubplot:xlabel='TV', ylabel='Density'>"
      ]
     },
     "execution_count": 303,
     "metadata": {},
     "output_type": "execute_result"
    },
    {
     "data": {
      "image/png": "[encoded data removed]",
      "text/plain": [
       "<Figure size 432x288 with 1 Axes>"
      ]
     },
     "metadata": {
      "needs_background": "light"
     },
     "output_type": "display_data"
    }
   ],
   "source": [
    "sns.distplot(sales['TV'])"
   ]
  },
  {
   "cell_type": "code",
   "execution_count": 304,
   "id": "1a789260",
   "metadata": {},
   "outputs": [
    {
     "data": {
      "text/plain": [
       "<seaborn.axisgrid.PairGrid at 0x7fb35a33d0d0>"
      ]
     },
     "execution_count": 304,
     "metadata": {},
     "output_type": "execute_result"
    },
    {
     "data": {
      "image/png": "[encoded data removed]",
      "text/plain": [
       "<Figure size 900x900 with 30 Axes>"
      ]
     },
     "metadata": {
      "needs_background": "light"
     },
     "output_type": "display_data"
    }
   ],
   "source": [
    "sns.pairplot(sales)"
   ]
  },
  {
   "cell_type": "code",
   "execution_count": 305,
   "id": "396efd33",
   "metadata": {},
   "outputs": [],
   "source": [
    "sales.drop('Unnamed: 0', axis=1, inplace=True)"
   ]
  },
  {
   "cell_type": "code",
   "execution_count": 306,
   "id": "8989498d",
   "metadata": {},
   "outputs": [
    {
     "data": {
      "text/html": [
       "<div>\n",
       "<style scoped>\n",
       "    .dataframe tbody tr th:only-of-type {\n",
       "        vertical-align: middle;\n",
       "    }\n",
       "\n",
       "    .dataframe tbody tr th {\n",
       "        vertical-align: top;\n",
       "    }\n",
       "\n",
       "    .dataframe thead th {\n",
       "        text-align: right;\n",
       "    }\n",
       "</style>\n",
       "<table border=\"1\" class=\"dataframe\">\n",
       "  <thead>\n",
       "    <tr style=\"text-align: right;\">\n",
       "      <th></th>\n",
       "      <th>TV</th>\n",
       "      <th>radio</th>\n",
       "      <th>newspaper</th>\n",
       "      <th>sales</th>\n",
       "    </tr>\n",
       "  </thead>\n",
       "  <tbody>\n",
       "    <tr>\n",
       "      <th>0</th>\n",
       "      <td>230.1</td>\n",
       "      <td>37.8</td>\n",
       "      <td>69.2</td>\n",
       "      <td>22.1</td>\n",
       "    </tr>\n",
       "    <tr>\n",
       "      <th>1</th>\n",
       "      <td>44.5</td>\n",
       "      <td>39.3</td>\n",
       "      <td>45.1</td>\n",
       "      <td>10.4</td>\n",
       "    </tr>\n",
       "    <tr>\n",
       "      <th>2</th>\n",
       "      <td>17.2</td>\n",
       "      <td>45.9</td>\n",
       "      <td>69.3</td>\n",
       "      <td>9.3</td>\n",
       "    </tr>\n",
       "    <tr>\n",
       "      <th>3</th>\n",
       "      <td>151.5</td>\n",
       "      <td>41.3</td>\n",
       "      <td>58.5</td>\n",
       "      <td>18.5</td>\n",
       "    </tr>\n",
       "    <tr>\n",
       "      <th>4</th>\n",
       "      <td>180.8</td>\n",
       "      <td>10.8</td>\n",
       "      <td>58.4</td>\n",
       "      <td>12.9</td>\n",
       "    </tr>\n",
       "    <tr>\n",
       "      <th>...</th>\n",
       "      <td>...</td>\n",
       "      <td>...</td>\n",
       "      <td>...</td>\n",
       "      <td>...</td>\n",
       "    </tr>\n",
       "    <tr>\n",
       "      <th>195</th>\n",
       "      <td>38.2</td>\n",
       "      <td>3.7</td>\n",
       "      <td>13.8</td>\n",
       "      <td>7.6</td>\n",
       "    </tr>\n",
       "    <tr>\n",
       "      <th>196</th>\n",
       "      <td>94.2</td>\n",
       "      <td>4.9</td>\n",
       "      <td>8.1</td>\n",
       "      <td>9.7</td>\n",
       "    </tr>\n",
       "    <tr>\n",
       "      <th>197</th>\n",
       "      <td>177.0</td>\n",
       "      <td>9.3</td>\n",
       "      <td>6.4</td>\n",
       "      <td>12.8</td>\n",
       "    </tr>\n",
       "    <tr>\n",
       "      <th>198</th>\n",
       "      <td>283.6</td>\n",
       "      <td>42.0</td>\n",
       "      <td>66.2</td>\n",
       "      <td>25.5</td>\n",
       "    </tr>\n",
       "    <tr>\n",
       "      <th>199</th>\n",
       "      <td>232.1</td>\n",
       "      <td>8.6</td>\n",
       "      <td>8.7</td>\n",
       "      <td>13.4</td>\n",
       "    </tr>\n",
       "  </tbody>\n",
       "</table>\n",
       "<p>200 rows × 4 columns</p>\n",
       "</div>"
      ],
      "text/plain": [
       "        TV  radio  newspaper  sales\n",
       "0    230.1   37.8       69.2   22.1\n",
       "1     44.5   39.3       45.1   10.4\n",
       "2     17.2   45.9       69.3    9.3\n",
       "3    151.5   41.3       58.5   18.5\n",
       "4    180.8   10.8       58.4   12.9\n",
       "..     ...    ...        ...    ...\n",
       "195   38.2    3.7       13.8    7.6\n",
       "196   94.2    4.9        8.1    9.7\n",
       "197  177.0    9.3        6.4   12.8\n",
       "198  283.6   42.0       66.2   25.5\n",
       "199  232.1    8.6        8.7   13.4\n",
       "\n",
       "[200 rows x 4 columns]"
      ]
     },
     "execution_count": 306,
     "metadata": {},
     "output_type": "execute_result"
    }
   ],
   "source": [
    "sales"
   ]
  },
  {
   "cell_type": "code",
   "execution_count": 307,
   "id": "e7d0fa6b",
   "metadata": {},
   "outputs": [
    {
     "data": {
      "text/html": [
       "<div>\n",
       "<style scoped>\n",
       "    .dataframe tbody tr th:only-of-type {\n",
       "        vertical-align: middle;\n",
       "    }\n",
       "\n",
       "    .dataframe tbody tr th {\n",
       "        vertical-align: top;\n",
       "    }\n",
       "\n",
       "    .dataframe thead th {\n",
       "        text-align: right;\n",
       "    }\n",
       "</style>\n",
       "<table border=\"1\" class=\"dataframe\">\n",
       "  <thead>\n",
       "    <tr style=\"text-align: right;\">\n",
       "      <th></th>\n",
       "      <th>TV</th>\n",
       "      <th>radio</th>\n",
       "      <th>newspaper</th>\n",
       "      <th>sales</th>\n",
       "    </tr>\n",
       "  </thead>\n",
       "  <tbody>\n",
       "    <tr>\n",
       "      <th>TV</th>\n",
       "      <td>1.000000</td>\n",
       "      <td>0.054809</td>\n",
       "      <td>0.056648</td>\n",
       "      <td>0.782224</td>\n",
       "    </tr>\n",
       "    <tr>\n",
       "      <th>radio</th>\n",
       "      <td>0.054809</td>\n",
       "      <td>1.000000</td>\n",
       "      <td>0.354104</td>\n",
       "      <td>0.576223</td>\n",
       "    </tr>\n",
       "    <tr>\n",
       "      <th>newspaper</th>\n",
       "      <td>0.056648</td>\n",
       "      <td>0.354104</td>\n",
       "      <td>1.000000</td>\n",
       "      <td>0.228299</td>\n",
       "    </tr>\n",
       "    <tr>\n",
       "      <th>sales</th>\n",
       "      <td>0.782224</td>\n",
       "      <td>0.576223</td>\n",
       "      <td>0.228299</td>\n",
       "      <td>1.000000</td>\n",
       "    </tr>\n",
       "  </tbody>\n",
       "</table>\n",
       "</div>"
      ],
      "text/plain": [
       "                 TV     radio  newspaper     sales\n",
       "TV         1.000000  0.054809   0.056648  0.782224\n",
       "radio      0.054809  1.000000   0.354104  0.576223\n",
       "newspaper  0.056648  0.354104   1.000000  0.228299\n",
       "sales      0.782224  0.576223   0.228299  1.000000"
      ]
     },
     "execution_count": 307,
     "metadata": {},
     "output_type": "execute_result"
    }
   ],
   "source": [
    "sales.corr()"
   ]
  },
  {
   "cell_type": "code",
   "execution_count": 308,
   "id": "92866e1f",
   "metadata": {},
   "outputs": [
    {
     "data": {
      "text/plain": [
       "newspaper    0.228299\n",
       "radio        0.576223\n",
       "TV           0.782224\n",
       "sales        1.000000\n",
       "Name: sales, dtype: float64"
      ]
     },
     "execution_count": 308,
     "metadata": {},
     "output_type": "execute_result"
    }
   ],
   "source": [
    "sales.corr()['sales'].sort_values()"
   ]
  },
  {
   "cell_type": "code",
   "execution_count": 309,
   "id": "aaea7fab",
   "metadata": {},
   "outputs": [
    {
     "data": {
      "text/plain": [
       "<AxesSubplot:>"
      ]
     },
     "execution_count": 309,
     "metadata": {},
     "output_type": "execute_result"
    },
    {
     "data": {
      "image/png": "[encoded data removed]",
      "text/plain": [
       "<Figure size 576x432 with 2 Axes>"
      ]
     },
     "metadata": {
      "needs_background": "light"
     },
     "output_type": "display_data"
    }
   ],
   "source": [
    "plt.figure(figsize=(8,6))\n",
    "sns.heatmap(sales.corr(), annot=True, linewidth=1,linecolor='red')"
   ]
  },
  {
   "cell_type": "code",
   "execution_count": 310,
   "id": "cfaa5ab6",
   "metadata": {},
   "outputs": [
    {
     "data": {
      "image/png": "[encoded data removed]",
      "text/plain": [
       "<Figure size 576x432 with 1 Axes>"
      ]
     },
     "metadata": {
      "needs_background": "light"
     },
     "output_type": "display_data"
    }
   ],
   "source": [
    "plt.figure(figsize=(8,6))\n",
    "sales.corr()['sales'].sort_values(ascending=False).drop(['sales']).plot(kind='bar',color='black')\n",
    "plt.xlabel('Sources',fontsize=12)\n",
    "plt.ylabel('column with target names',fontsize=12)\n",
    "plt.title('correlation',fontsize=16)\n",
    "plt.show()"
   ]
  },
  {
   "cell_type": "code",
   "execution_count": 311,
   "id": "a94bcf1a",
   "metadata": {},
   "outputs": [
    {
     "data": {
      "text/html": [
       "<div>\n",
       "<style scoped>\n",
       "    .dataframe tbody tr th:only-of-type {\n",
       "        vertical-align: middle;\n",
       "    }\n",
       "\n",
       "    .dataframe tbody tr th {\n",
       "        vertical-align: top;\n",
       "    }\n",
       "\n",
       "    .dataframe thead th {\n",
       "        text-align: right;\n",
       "    }\n",
       "</style>\n",
       "<table border=\"1\" class=\"dataframe\">\n",
       "  <thead>\n",
       "    <tr style=\"text-align: right;\">\n",
       "      <th></th>\n",
       "      <th>TV</th>\n",
       "      <th>radio</th>\n",
       "      <th>newspaper</th>\n",
       "      <th>sales</th>\n",
       "    </tr>\n",
       "  </thead>\n",
       "  <tbody>\n",
       "    <tr>\n",
       "      <th>count</th>\n",
       "      <td>200.000000</td>\n",
       "      <td>200.000000</td>\n",
       "      <td>200.000000</td>\n",
       "      <td>200.000000</td>\n",
       "    </tr>\n",
       "    <tr>\n",
       "      <th>mean</th>\n",
       "      <td>147.042500</td>\n",
       "      <td>23.264000</td>\n",
       "      <td>30.554000</td>\n",
       "      <td>14.022500</td>\n",
       "    </tr>\n",
       "    <tr>\n",
       "      <th>std</th>\n",
       "      <td>85.854236</td>\n",
       "      <td>14.846809</td>\n",
       "      <td>21.778621</td>\n",
       "      <td>5.217457</td>\n",
       "    </tr>\n",
       "    <tr>\n",
       "      <th>min</th>\n",
       "      <td>0.700000</td>\n",
       "      <td>0.000000</td>\n",
       "      <td>0.300000</td>\n",
       "      <td>1.600000</td>\n",
       "    </tr>\n",
       "    <tr>\n",
       "      <th>25%</th>\n",
       "      <td>74.375000</td>\n",
       "      <td>9.975000</td>\n",
       "      <td>12.750000</td>\n",
       "      <td>10.375000</td>\n",
       "    </tr>\n",
       "    <tr>\n",
       "      <th>50%</th>\n",
       "      <td>149.750000</td>\n",
       "      <td>22.900000</td>\n",
       "      <td>25.750000</td>\n",
       "      <td>12.900000</td>\n",
       "    </tr>\n",
       "    <tr>\n",
       "      <th>75%</th>\n",
       "      <td>218.825000</td>\n",
       "      <td>36.525000</td>\n",
       "      <td>45.100000</td>\n",
       "      <td>17.400000</td>\n",
       "    </tr>\n",
       "    <tr>\n",
       "      <th>max</th>\n",
       "      <td>296.400000</td>\n",
       "      <td>49.600000</td>\n",
       "      <td>114.000000</td>\n",
       "      <td>27.000000</td>\n",
       "    </tr>\n",
       "  </tbody>\n",
       "</table>\n",
       "</div>"
      ],
      "text/plain": [
       "               TV       radio   newspaper       sales\n",
       "count  200.000000  200.000000  200.000000  200.000000\n",
       "mean   147.042500   23.264000   30.554000   14.022500\n",
       "std     85.854236   14.846809   21.778621    5.217457\n",
       "min      0.700000    0.000000    0.300000    1.600000\n",
       "25%     74.375000    9.975000   12.750000   10.375000\n",
       "50%    149.750000   22.900000   25.750000   12.900000\n",
       "75%    218.825000   36.525000   45.100000   17.400000\n",
       "max    296.400000   49.600000  114.000000   27.000000"
      ]
     },
     "execution_count": 311,
     "metadata": {},
     "output_type": "execute_result"
    }
   ],
   "source": [
    "sales.describe()"
   ]
  },
  {
   "cell_type": "code",
   "execution_count": 312,
   "id": "6f0840be",
   "metadata": {},
   "outputs": [
    {
     "data": {
      "text/plain": [
       "<AxesSubplot:>"
      ]
     },
     "execution_count": 312,
     "metadata": {},
     "output_type": "execute_result"
    },
    {
     "data": {
      "image/png": "[encoded data removed]",
      "text/plain": [
       "<Figure size 576x432 with 2 Axes>"
      ]
     },
     "metadata": {
      "needs_background": "light"
     },
     "output_type": "display_data"
    }
   ],
   "source": [
    "plt.figure(figsize=(8,6))\n",
    "sns.heatmap(sales.describe(),annot=True,linewidth=1,linecolor='blue')"
   ]
  },
  {
   "cell_type": "code",
   "execution_count": 313,
   "id": "a1e0f514",
   "metadata": {},
   "outputs": [
    {
     "data": {
      "image/png": "[encoded data removed]",
      "text/plain": [
       "<Figure size 288x1152 with 4 Axes>"
      ]
     },
     "metadata": {
      "needs_background": "light"
     },
     "output_type": "display_data"
    }
   ],
   "source": [
    "#to check outliers\n",
    "collist=sales.columns.values\n",
    "ncol=2\n",
    "nrows=4\n",
    "plt.figure(figsize=(nrows,4*nrows))\n",
    "for i in range(0,len(collist)):\n",
    "    plt.subplot(nrows,ncol,i+1)\n",
    "    sns.boxplot(sales[collist[i]])\n",
    "    plt.tight_layout()"
   ]
  },
  {
   "cell_type": "code",
   "execution_count": 314,
   "id": "9e202009",
   "metadata": {},
   "outputs": [
    {
     "data": {
      "text/plain": [
       "TV          -0.069853\n",
       "radio        0.094175\n",
       "sales        0.407571\n",
       "newspaper    0.894720\n",
       "dtype: float64"
      ]
     },
     "execution_count": 314,
     "metadata": {},
     "output_type": "execute_result"
    }
   ],
   "source": [
    "#check skewness in data\n",
    "sales.skew().sort_values()"
   ]
  },
  {
   "cell_type": "code",
   "execution_count": 315,
   "id": "b1d56661",
   "metadata": {},
   "outputs": [
    {
     "data": {
      "image/png": "[encoded data removed]",
      "text/plain": [
       "<Figure size 288x864 with 4 Axes>"
      ]
     },
     "metadata": {
      "needs_background": "light"
     },
     "output_type": "display_data"
    }
   ],
   "source": [
    "#distribution plot to check skewness\n",
    "collist=sales.columns.values\n",
    "ncol=2\n",
    "nrows=4\n",
    "plt.figure(figsize=(nrows,3*nrows))\n",
    "for i in range(0,len(collist)):\n",
    "    plt.subplot(nrows,ncol,i+1)\n",
    "    sns.distplot(sales[collist[i]])\n",
    "    plt.tight_layout()"
   ]
  },
  {
   "cell_type": "code",
   "execution_count": 316,
   "id": "3e246e3e",
   "metadata": {},
   "outputs": [
    {
     "data": {
      "text/plain": [
       "(array([ 16, 101]), array([2, 2]))"
      ]
     },
     "execution_count": 316,
     "metadata": {},
     "output_type": "execute_result"
    }
   ],
   "source": [
    "from scipy.stats import zscore\n",
    "import numpy as np\n",
    "z=np.abs(zscore(sales))\n",
    "threshold=3\n",
    "np.where(z>3)"
   ]
  },
  {
   "cell_type": "code",
   "execution_count": 317,
   "id": "a66a4f3c",
   "metadata": {},
   "outputs": [
    {
     "data": {
      "text/plain": [
       "array([[False, False, False, False],\n",
       "       [False, False, False, False],\n",
       "       [False, False, False, False],\n",
       "       [False, False, False, False],\n",
       "       [False, False, False, False],\n",
       "       [False, False, False, False],\n",
       "       [False, False, False, False],\n",
       "       [False, False, False, False],\n",
       "       [False, False, False, False],\n",
       "       [False, False, False, False],\n",
       "       [False, False, False, False],\n",
       "       [False, False, False, False],\n",
       "       [False, False, False, False],\n",
       "       [False, False, False, False],\n",
       "       [False, False, False, False],\n",
       "       [False, False, False, False],\n",
       "       [False, False, False, False],\n",
       "       [False, False, False, False],\n",
       "       [False, False, False, False],\n",
       "       [False, False, False, False],\n",
       "       [False, False, False, False],\n",
       "       [False, False, False, False],\n",
       "       [False, False, False, False],\n",
       "       [False, False, False, False],\n",
       "       [False, False, False, False],\n",
       "       [False, False, False, False],\n",
       "       [False, False, False, False],\n",
       "       [False, False, False, False],\n",
       "       [False, False, False, False],\n",
       "       [False, False, False, False],\n",
       "       [False, False, False, False],\n",
       "       [False, False, False, False],\n",
       "       [False, False, False, False],\n",
       "       [False, False, False, False],\n",
       "       [False, False, False, False],\n",
       "       [False, False, False, False],\n",
       "       [False, False, False, False],\n",
       "       [False, False, False, False],\n",
       "       [False, False, False, False],\n",
       "       [False, False, False, False],\n",
       "       [False, False, False, False],\n",
       "       [False, False, False, False],\n",
       "       [False, False, False, False],\n",
       "       [False, False, False, False],\n",
       "       [False, False, False, False],\n",
       "       [False, False, False, False],\n",
       "       [False, False, False, False],\n",
       "       [False, False, False, False],\n",
       "       [False, False, False, False],\n",
       "       [False, False, False, False],\n",
       "       [False, False, False, False],\n",
       "       [False, False, False, False],\n",
       "       [False, False, False, False],\n",
       "       [False, False, False, False],\n",
       "       [False, False, False, False],\n",
       "       [False, False, False, False],\n",
       "       [False, False, False, False],\n",
       "       [False, False, False, False],\n",
       "       [False, False, False, False],\n",
       "       [False, False, False, False],\n",
       "       [False, False, False, False],\n",
       "       [False, False, False, False],\n",
       "       [False, False, False, False],\n",
       "       [False, False, False, False],\n",
       "       [False, False, False, False],\n",
       "       [False, False, False, False],\n",
       "       [False, False, False, False],\n",
       "       [False, False, False, False],\n",
       "       [False, False, False, False],\n",
       "       [False, False, False, False],\n",
       "       [False, False, False, False],\n",
       "       [False, False, False, False],\n",
       "       [False, False, False, False],\n",
       "       [False, False, False, False],\n",
       "       [False, False, False, False],\n",
       "       [False, False, False, False],\n",
       "       [False, False, False, False],\n",
       "       [False, False, False, False],\n",
       "       [False, False, False, False],\n",
       "       [False, False, False, False],\n",
       "       [False, False, False, False],\n",
       "       [False, False, False, False],\n",
       "       [False, False, False, False],\n",
       "       [False, False, False, False],\n",
       "       [False, False, False, False],\n",
       "       [False, False, False, False],\n",
       "       [False, False, False, False],\n",
       "       [False, False, False, False],\n",
       "       [False, False, False, False],\n",
       "       [False, False, False, False],\n",
       "       [False, False, False, False],\n",
       "       [False, False, False, False],\n",
       "       [False, False, False, False],\n",
       "       [False, False, False, False],\n",
       "       [False, False, False, False],\n",
       "       [False, False, False, False],\n",
       "       [False, False, False, False],\n",
       "       [False, False, False, False],\n",
       "       [False, False, False, False],\n",
       "       [False, False, False, False],\n",
       "       [False, False, False, False],\n",
       "       [False, False, False, False],\n",
       "       [False, False, False, False],\n",
       "       [False, False, False, False],\n",
       "       [False, False, False, False],\n",
       "       [False, False, False, False],\n",
       "       [False, False, False, False],\n",
       "       [False, False, False, False],\n",
       "       [False, False, False, False],\n",
       "       [False, False, False, False],\n",
       "       [False, False, False, False],\n",
       "       [False, False, False, False],\n",
       "       [False, False, False, False],\n",
       "       [False, False, False, False],\n",
       "       [False, False, False, False],\n",
       "       [False, False, False, False],\n",
       "       [False, False, False, False],\n",
       "       [False, False, False, False],\n",
       "       [False, False, False, False],\n",
       "       [False, False, False, False],\n",
       "       [False, False, False, False],\n",
       "       [False, False, False, False],\n",
       "       [False, False, False, False],\n",
       "       [False, False, False, False],\n",
       "       [False, False, False, False],\n",
       "       [False, False, False, False],\n",
       "       [False, False, False, False],\n",
       "       [False, False, False, False],\n",
       "       [False, False, False, False],\n",
       "       [False, False, False, False],\n",
       "       [False, False, False, False],\n",
       "       [False, False, False, False],\n",
       "       [False, False, False, False],\n",
       "       [False, False, False, False],\n",
       "       [False, False, False, False],\n",
       "       [False, False, False, False],\n",
       "       [False, False, False, False],\n",
       "       [False, False, False, False],\n",
       "       [False, False, False, False],\n",
       "       [False, False, False, False],\n",
       "       [False, False, False, False],\n",
       "       [False, False, False, False],\n",
       "       [False, False, False, False],\n",
       "       [False, False, False, False],\n",
       "       [False, False, False, False],\n",
       "       [False, False, False, False],\n",
       "       [False, False, False, False],\n",
       "       [False, False, False, False],\n",
       "       [False, False, False, False],\n",
       "       [False, False, False, False],\n",
       "       [False, False, False, False],\n",
       "       [False, False, False, False],\n",
       "       [False, False, False, False],\n",
       "       [False, False, False, False],\n",
       "       [False, False, False, False],\n",
       "       [False, False, False, False],\n",
       "       [False, False, False, False],\n",
       "       [False, False, False, False],\n",
       "       [False, False, False, False],\n",
       "       [False, False, False, False],\n",
       "       [False, False, False, False],\n",
       "       [False, False, False, False],\n",
       "       [False, False, False, False],\n",
       "       [False, False, False, False],\n",
       "       [False, False, False, False],\n",
       "       [False, False, False, False],\n",
       "       [False, False, False, False],\n",
       "       [False, False, False, False],\n",
       "       [False, False, False, False],\n",
       "       [False, False, False, False],\n",
       "       [False, False, False, False],\n",
       "       [False, False, False, False],\n",
       "       [False, False, False, False],\n",
       "       [False, False, False, False],\n",
       "       [False, False, False, False],\n",
       "       [False, False, False, False],\n",
       "       [False, False, False, False],\n",
       "       [False, False, False, False],\n",
       "       [False, False, False, False],\n",
       "       [False, False, False, False],\n",
       "       [False, False, False, False],\n",
       "       [False, False, False, False],\n",
       "       [False, False, False, False],\n",
       "       [False, False, False, False],\n",
       "       [False, False, False, False],\n",
       "       [False, False, False, False],\n",
       "       [False, False, False, False],\n",
       "       [False, False, False, False],\n",
       "       [False, False, False, False],\n",
       "       [False, False, False, False],\n",
       "       [False, False, False, False],\n",
       "       [False, False, False, False],\n",
       "       [False, False, False, False],\n",
       "       [False, False, False, False],\n",
       "       [False, False, False, False],\n",
       "       [False, False, False, False],\n",
       "       [False, False, False, False],\n",
       "       [False, False, False, False],\n",
       "       [False, False, False, False],\n",
       "       [False, False, False, False]])"
      ]
     },
     "execution_count": 317,
     "metadata": {},
     "output_type": "execute_result"
    }
   ],
   "source": [
    "np.abs(zscore(sales))<0"
   ]
  },
  {
   "cell_type": "code",
   "execution_count": 318,
   "id": "c70a1842",
   "metadata": {},
   "outputs": [
    {
     "data": {
      "text/html": [
       "<div>\n",
       "<style scoped>\n",
       "    .dataframe tbody tr th:only-of-type {\n",
       "        vertical-align: middle;\n",
       "    }\n",
       "\n",
       "    .dataframe tbody tr th {\n",
       "        vertical-align: top;\n",
       "    }\n",
       "\n",
       "    .dataframe thead th {\n",
       "        text-align: right;\n",
       "    }\n",
       "</style>\n",
       "<table border=\"1\" class=\"dataframe\">\n",
       "  <thead>\n",
       "    <tr style=\"text-align: right;\">\n",
       "      <th></th>\n",
       "      <th>TV</th>\n",
       "      <th>radio</th>\n",
       "      <th>newspaper</th>\n",
       "      <th>sales</th>\n",
       "    </tr>\n",
       "  </thead>\n",
       "  <tbody>\n",
       "    <tr>\n",
       "      <th>0</th>\n",
       "      <td>230.1</td>\n",
       "      <td>37.8</td>\n",
       "      <td>69.2</td>\n",
       "      <td>22.1</td>\n",
       "    </tr>\n",
       "    <tr>\n",
       "      <th>1</th>\n",
       "      <td>44.5</td>\n",
       "      <td>39.3</td>\n",
       "      <td>45.1</td>\n",
       "      <td>10.4</td>\n",
       "    </tr>\n",
       "    <tr>\n",
       "      <th>2</th>\n",
       "      <td>17.2</td>\n",
       "      <td>45.9</td>\n",
       "      <td>69.3</td>\n",
       "      <td>9.3</td>\n",
       "    </tr>\n",
       "    <tr>\n",
       "      <th>3</th>\n",
       "      <td>151.5</td>\n",
       "      <td>41.3</td>\n",
       "      <td>58.5</td>\n",
       "      <td>18.5</td>\n",
       "    </tr>\n",
       "    <tr>\n",
       "      <th>4</th>\n",
       "      <td>180.8</td>\n",
       "      <td>10.8</td>\n",
       "      <td>58.4</td>\n",
       "      <td>12.9</td>\n",
       "    </tr>\n",
       "    <tr>\n",
       "      <th>...</th>\n",
       "      <td>...</td>\n",
       "      <td>...</td>\n",
       "      <td>...</td>\n",
       "      <td>...</td>\n",
       "    </tr>\n",
       "    <tr>\n",
       "      <th>195</th>\n",
       "      <td>38.2</td>\n",
       "      <td>3.7</td>\n",
       "      <td>13.8</td>\n",
       "      <td>7.6</td>\n",
       "    </tr>\n",
       "    <tr>\n",
       "      <th>196</th>\n",
       "      <td>94.2</td>\n",
       "      <td>4.9</td>\n",
       "      <td>8.1</td>\n",
       "      <td>9.7</td>\n",
       "    </tr>\n",
       "    <tr>\n",
       "      <th>197</th>\n",
       "      <td>177.0</td>\n",
       "      <td>9.3</td>\n",
       "      <td>6.4</td>\n",
       "      <td>12.8</td>\n",
       "    </tr>\n",
       "    <tr>\n",
       "      <th>198</th>\n",
       "      <td>283.6</td>\n",
       "      <td>42.0</td>\n",
       "      <td>66.2</td>\n",
       "      <td>25.5</td>\n",
       "    </tr>\n",
       "    <tr>\n",
       "      <th>199</th>\n",
       "      <td>232.1</td>\n",
       "      <td>8.6</td>\n",
       "      <td>8.7</td>\n",
       "      <td>13.4</td>\n",
       "    </tr>\n",
       "  </tbody>\n",
       "</table>\n",
       "<p>198 rows × 4 columns</p>\n",
       "</div>"
      ],
      "text/plain": [
       "        TV  radio  newspaper  sales\n",
       "0    230.1   37.8       69.2   22.1\n",
       "1     44.5   39.3       45.1   10.4\n",
       "2     17.2   45.9       69.3    9.3\n",
       "3    151.5   41.3       58.5   18.5\n",
       "4    180.8   10.8       58.4   12.9\n",
       "..     ...    ...        ...    ...\n",
       "195   38.2    3.7       13.8    7.6\n",
       "196   94.2    4.9        8.1    9.7\n",
       "197  177.0    9.3        6.4   12.8\n",
       "198  283.6   42.0       66.2   25.5\n",
       "199  232.1    8.6        8.7   13.4\n",
       "\n",
       "[198 rows x 4 columns]"
      ]
     },
     "execution_count": 318,
     "metadata": {},
     "output_type": "execute_result"
    }
   ],
   "source": [
    "sales_1=sales[(z<3).all(axis=1)]\n",
    "sales_1"
   ]
  },
  {
   "cell_type": "code",
   "execution_count": 319,
   "id": "8dae5dcf",
   "metadata": {},
   "outputs": [
    {
     "data": {
      "text/plain": [
       "(198, 4)"
      ]
     },
     "execution_count": 319,
     "metadata": {},
     "output_type": "execute_result"
    }
   ],
   "source": [
    "sales_1.shape"
   ]
  },
  {
   "cell_type": "code",
   "execution_count": 320,
   "id": "8b6d606e",
   "metadata": {},
   "outputs": [
    {
     "data": {
      "text/plain": [
       "1.0"
      ]
     },
     "execution_count": 320,
     "metadata": {},
     "output_type": "execute_result"
    }
   ],
   "source": [
    "#to know the percentage loss\n",
    "loss_data=((200-198)/200)*100\n",
    "loss_data"
   ]
  },
  {
   "cell_type": "code",
   "execution_count": 321,
   "id": "0654b0fb",
   "metadata": {},
   "outputs": [],
   "source": [
    "x=sales_1.iloc[:,:-1]\n",
    "y=sales_1.iloc[:,:-1]"
   ]
  },
  {
   "cell_type": "code",
   "execution_count": 322,
   "id": "7dae8fb9",
   "metadata": {},
   "outputs": [
    {
     "data": {
      "text/plain": [
       "array([[ 0.95598306,  0.9691098 ,  1.6041965 ],\n",
       "       [-1.19200349,  1.04623436,  0.83104401],\n",
       "       [-1.6461253 ,  1.37296802,  1.60705249],\n",
       "       [ 0.14293428,  1.1473316 ,  1.28376774],\n",
       "       [ 0.45645241, -0.73502642,  1.28062154],\n",
       "       [-1.8204008 ,  1.51543955,  1.76610727],\n",
       "       [-1.00349358,  0.70309642, -0.10205346],\n",
       "       [-0.20996049, -0.0876566 , -0.84968895],\n",
       "       [-1.82264543, -1.62948287, -2.09866461],\n",
       "       [ 0.652694  , -1.56152179, -0.22649933],\n",
       "       [-0.88482761, -1.19258569, -0.06553382],\n",
       "       [ 0.80322028,  0.19357553, -1.59608414],\n",
       "       [-1.52567125,  0.82725998,  1.50859232],\n",
       "       [-0.48090308, -1.01613619, -1.23269654],\n",
       "       [ 0.69642374,  0.70856268,  0.86367455],\n",
       "       [ 0.60769456,  1.45886692,  1.1026083 ],\n",
       "       [ 1.44702338,  1.06152278,  1.19771741],\n",
       "       [-0.84304109, -0.02834315, -0.39458775],\n",
       "       [ 0.09676151,  0.18741189, -0.346834  ],\n",
       "       [ 0.84017479,  0.41523303,  1.11921444],\n",
       "       [ 1.02746612, -1.2660875 , -0.10205346],\n",
       "       [-1.72466475, -0.3430802 ,  0.99069777],\n",
       "       [ 0.93826742, -0.27204438,  0.0356758 ],\n",
       "       [-0.93674187, -0.59023588, -0.39458775],\n",
       "       [ 1.27285397, -1.44792482, -0.32336998],\n",
       "       [ 0.04802388,  0.50756488, -0.7740548 ],\n",
       "       [ 1.05376032, -0.28612399, -0.13384051],\n",
       "       [ 1.13797152,  0.38008881, -0.13384051],\n",
       "       [-0.82432769, -0.33590351,  0.66980347],\n",
       "       [ 1.55379249,  0.45008922,  0.76092313],\n",
       "       [-0.29552539, -0.23711359,  0.58357284],\n",
       "       [-0.48458608, -1.71704857,  0.21669702],\n",
       "       [ 1.29846636, -0.06117169, -2.2758464 ],\n",
       "       [-0.50304519, -1.7324148 , -1.21299201],\n",
       "       [ 1.53345233, -1.3771472 , -1.10919482],\n",
       "       [ 1.31077419,  1.27109462, -1.4708598 ],\n",
       "       [-0.77006157,  1.53885314,  0.85283827],\n",
       "       [-1.21308859,  0.35649509,  0.44045973],\n",
       "       [ 0.93531131,  0.96392681,  0.30682057],\n",
       "       [ 0.68018031,  0.08742886,  0.28905461],\n",
       "       [ 0.4165774 ,  0.73579933,  0.58755182],\n",
       "       [ 1.56025605,  0.41523303, -1.93614969],\n",
       "       [ 0.72477076, -0.94246393,  0.04555612],\n",
       "       [-1.50299171,  0.29691633,  0.76465678],\n",
       "       [ 0.39655706,  0.10007132,  0.2845934 ],\n",
       "       [-0.5776425 , -0.81067203,  0.46554742],\n",
       "       [ 1.05181524,  1.15733673, -0.38254334],\n",
       "       [ 0.92742341, -0.35027362,  1.00104316],\n",
       "       [-0.87399682, -0.66162053,  0.51093113],\n",
       "       [ 0.652694  , -1.49718987,  0.41936802],\n",
       "       [-0.44544938, -0.83642883, -1.65023317],\n",
       "       [ 0.82021967,  1.16732335,  0.62310406],\n",
       "       [ 0.47526481,  1.38737344,  1.29005095],\n",
       "       [ 1.27095405,  0.47892195, -0.54515187],\n",
       "       [ 0.6435106 ,  1.53885314,  1.33059751],\n",
       "       [-1.85241088,  0.43850198,  0.6928619 ],\n",
       "       [-0.02694246, -0.11434473, -0.50002298],\n",
       "       [ 0.7640894 ,  1.54819296,  0.54749686],\n",
       "       [ 0.76308359,  0.51896989, -1.03801781],\n",
       "       [-1.06021399, -1.64357954, -0.21538949],\n",
       "       [ 1.25764412,  1.21698291,  1.16198054],\n",
       "       [ 1.04597746, -0.37195568,  0.08950799],\n",
       "       [-0.41751811,  0.52466135, -1.11833294],\n",
       "       [-0.08464536,  1.22192414,  0.16568658],\n",
       "       [-0.84572231, -0.8624742 , -2.12148202],\n",
       "       [-1.39528628,  0.23035564, -1.86501   ],\n",
       "       [ 0.00785902, -0.44537697, -0.96167639],\n",
       "       [ 1.02746612,  0.40355071, -0.89675177],\n",
       "       [ 0.8242145 ,  1.27598779,  0.08466485],\n",
       "       [ 0.64555228,  0.58117899,  0.58755182],\n",
       "       [-0.33228945, -0.46028254,  0.29350789],\n",
       "       [-1.47377148,  0.71402259, -0.33506848],\n",
       "       [-0.10400761, -1.202897  ,  0.27564704],\n",
       "       [ 0.79019725,  0.23035564, -0.73744518],\n",
       "       [-1.65184774,  1.26619715,  2.13937255],\n",
       "       [-1.46187563, -1.70192244, -0.25453031],\n",
       "       [-0.20647326,  0.46164538, -0.65947105],\n",
       "       [-1.89822804,  0.54169198, -1.02934918],\n",
       "       [-0.25902053, -1.00678392, -0.12319395],\n",
       "       [-0.74778651,  0.35649509, -0.16609367],\n",
       "       [ 1.05084254, -1.3771472 ,  0.51501874],\n",
       "       [-0.76218508, -0.04143812,  0.32885333],\n",
       "       [-0.85377796,  1.30525722,  0.46138274],\n",
       "       [ 0.79119975,  1.23179329,  0.38526098],\n",
       "       [ 0.58509675, -0.16835339,  1.50271112],\n",
       "       [-0.74909326,  0.40355071, -0.53863938],\n",
       "       [-0.32158879,  1.11216604,  1.42831665],\n",
       "       [-0.59523084,  0.28489586,  1.72217946],\n",
       "       [-0.33228945,  1.4636021 ,  1.05224719],\n",
       "       [-0.04837336, -1.28768913, -1.03801781],\n",
       "       [-1.44333425, -1.71704857,  0.35069626],\n",
       "       [ 0.8331959 ,  0.74122791,  1.29945293],\n",
       "       [ 1.15818339,  0.90131402,  1.69166052],\n",
       "       [-0.36093577, -0.4827855 , -0.90472726],\n",
       "       [ 0.2709304 ,  0.63699688,  1.1026083 ],\n",
       "       [ 0.63022667, -1.44792482, -1.36815587],\n",
       "       [ 0.49923329,  0.00418624, -0.18240095],\n",
       "       [ 1.52419364,  1.19717332,  1.04546953],\n",
       "       [-0.0382122 ,  1.16732335,  0.86006693],\n",
       "       [ 0.87994389, -1.35429375,  0.99759864],\n",
       "       [ 1.43581778, -0.79365568, -0.21538949],\n",
       "       [ 0.53038105, -0.25104051, -0.41889554],\n",
       "       [ 1.03526502,  0.78443582, -1.43568966],\n",
       "       [-0.00783277,  1.39695704,  1.29945293],\n",
       "       [-1.50472569, -0.71852874,  0.20289058],\n",
       "       [-0.56887482, -1.92277996, -0.11788987],\n",
       "       [-1.72669682, -1.90334954,  0.00577961],\n",
       "       [ 1.20134779,  0.36830859, -1.41277956],\n",
       "       [ 0.91360226, -0.96064272,  1.22025052],\n",
       "       [ 1.06930594,  0.97946003, -0.11788987],\n",
       "       [ 0.40288531, -0.37921745, -1.83137048],\n",
       "       [ 0.75201155, -0.02181365, -0.9207956 ],\n",
       "       [-0.72433929,  1.41607663,  0.41512911],\n",
       "       [-0.76480878,  0.82192754,  1.09594084],\n",
       "       [ 0.00673953, -0.46028254,  0.00577961],\n",
       "       [-0.74778651, -1.83055994, -0.61831443],\n",
       "       [-0.14637764,  0.92227141,  1.87892616],\n",
       "       [-1.60487761, -0.33590351, -0.16609367],\n",
       "       [ 0.03020546,  0.36240602,  0.87087647],\n",
       "       [-1.61600701,  0.04924266,  1.01820721],\n",
       "       [ 0.89579959, -1.58822992, -0.56482448],\n",
       "       [-0.17634363,  0.8005392 , -0.78891695],\n",
       "       [ 0.95008184,  0.67566908,  1.7442111 ],\n",
       "       [-0.60910057, -0.65359273,  0.02077604],\n",
       "       [-1.84082856,  1.02577993,  1.02504572],\n",
       "       [-0.69844865, -1.98495808, -1.04673537],\n",
       "       [ 0.8590884 ,  1.52012963, -1.70718676],\n",
       "       [-0.97412104, -0.63761079,  0.75718457],\n",
       "       [-2.03323356,  1.06152278, -1.09108448],\n",
       "       [ 1.2946762 , -1.52253007,  0.7534411 ],\n",
       "       [-1.82715302,  0.38596655, -1.88228781],\n",
       "       [ 0.85411524,  0.74122791,  0.83104401],\n",
       "       [-1.30867028,  1.0103861 ,  1.49976669],\n",
       "       [-1.13560137,  1.42561279, -1.10919482],\n",
       "       [-1.49434751,  1.03090107, -1.03801781],\n",
       "       [ 1.37490294,  0.48466558,  1.32128542],\n",
       "       [-1.21460127,  0.30890141, -0.2658475 ],\n",
       "       [ 0.49923329,  1.27598779, -1.95484304],\n",
       "       [-0.78718324, -0.2650278 , -0.75199725],\n",
       "       [ 0.59023843,  0.84322253,  1.78244184],\n",
       "       [ 0.86107685,  0.72492349,  0.55555544],\n",
       "       [-0.39456576, -1.202897  ,  0.41088327],\n",
       "       [-0.49688394, -0.42315979,  0.59549238],\n",
       "       [ 0.01904252, -1.65786243, -1.06432036],\n",
       "       [ 1.05376032, -1.04445327, -1.09108448],\n",
       "       [ 1.08385578,  1.52012963,  0.80172759],\n",
       "       [-1.29143203,  1.09702388, -0.82664429],\n",
       "       [-1.1890052 ,  0.30291327, -0.26018131],\n",
       "       [ 1.44048829, -0.49032576,  0.51910011],\n",
       "       [-0.20066619, -0.94246393,  0.95944652],\n",
       "       [ 0.63022667,  0.15022331, -0.65947105],\n",
       "       [ 0.35634693,  1.06660903,  0.54749686],\n",
       "       [ 0.52934487,  0.01065705, -1.02072873],\n",
       "       [-1.93163495, -0.66967326, -1.39027462],\n",
       "       [-0.52529469,  1.25638925,  1.02162839],\n",
       "       [ 0.12428563, -1.74803521, -0.06036496],\n",
       "       [-1.75555556,  0.92227141,  0.83468776],\n",
       "       [-0.07782712, -0.16835339,  0.41936802],\n",
       "       [ 0.36906953, -0.18883181,  0.24861364],\n",
       "       [-0.62808655,  0.86442562,  0.98031676],\n",
       "       [ 0.5355598 , -0.18883181,  0.00577961],\n",
       "       [ 0.2730788 ,  0.91704026, -1.21299201],\n",
       "       [-0.24495734, -0.43054692, -1.42418272],\n",
       "       [ 0.99913782, -1.46007371,  2.02414625],\n",
       "       [-1.63286723,  0.95873855, -0.20433701],\n",
       "       [ 0.72376009, -1.25539136, -0.32921092],\n",
       "       [ 0.81022423,  0.16886223,  1.25534066],\n",
       "       [ 1.47405264, -0.75163452, -1.31443661],\n",
       "       [-1.11073781, -0.66967326, -0.38855655],\n",
       "       [ 0.28381064, -0.00229617,  0.91372099],\n",
       "       [-1.60118681, -0.05458158, -0.47470116],\n",
       "       [ 0.32550506, -1.06355551, -0.75931882],\n",
       "       [ 0.87994389, -1.46007371, -0.73744518],\n",
       "       [ 1.40493806,  1.51543955,  0.70812926],\n",
       "       [ 1.13411664,  0.55865764, -0.27722588],\n",
       "       [ 0.34466429, -0.99747386,  0.44465771],\n",
       "       [ 1.40306351, -1.60181548, -0.09155822],\n",
       "       [ 0.29559622, -0.80214864, -0.43732278],\n",
       "       [ 0.19855946, -1.56152179, -1.12752759],\n",
       "       [ 0.8411713 , -1.23420066,  0.09434122],\n",
       "       [-1.02181379, -1.202897  ,  0.20289058],\n",
       "       [ 1.50472337,  1.23179329,  1.67770049],\n",
       "       [ 1.18602318,  0.02356422,  0.21669702],\n",
       "       [ 0.70554619,  1.33437513, -0.31754553],\n",
       "       [ 0.01009737, -1.62948287,  0.05539471],\n",
       "       [ 0.56346396,  0.47317073, -0.40063711],\n",
       "       [ 1.48986416, -0.49032576, -1.63644784],\n",
       "       [-1.61787038, -0.62965614, -0.1073197 ],\n",
       "       [-1.26812741,  1.13730782, -1.3791681 ],\n",
       "       [-0.75956316, -0.73502642, -1.3572358 ],\n",
       "       [-1.6461253 , -1.3771472 ,  0.28905461],\n",
       "       [ 0.30843016,  1.18226883, -1.65023317],\n",
       "       [ 0.12318696,  0.85383548, -1.3572358 ],\n",
       "       [-1.28831146, -1.42394128, -0.68743455],\n",
       "       [-0.52157887, -1.28768913, -1.14609038],\n",
       "       [ 0.4165774 , -0.8624742 , -1.31443661],\n",
       "       [ 1.4675349 ,  1.18226883,  1.51739504],\n",
       "       [ 0.97562509, -0.92443675, -1.09108448]])"
      ]
     },
     "execution_count": 322,
     "metadata": {},
     "output_type": "execute_result"
    }
   ],
   "source": [
    "#remove skewness\n",
    "from sklearn.preprocessing import power_transform\n",
    "x=power_transform(x,method='yeo-johnson')\n",
    "x"
   ]
  },
  {
   "cell_type": "code",
   "execution_count": 323,
   "id": "02577add",
   "metadata": {
    "scrolled": true
   },
   "outputs": [
    {
     "data": {
      "text/plain": [
       "array([[ 0.95598306,  0.9691098 ,  1.6041965 ],\n",
       "       [-1.19200349,  1.04623436,  0.83104401],\n",
       "       [-1.6461253 ,  1.37296802,  1.60705249],\n",
       "       [ 0.14293428,  1.1473316 ,  1.28376774],\n",
       "       [ 0.45645241, -0.73502642,  1.28062154],\n",
       "       [-1.8204008 ,  1.51543955,  1.76610727],\n",
       "       [-1.00349358,  0.70309642, -0.10205346],\n",
       "       [-0.20996049, -0.0876566 , -0.84968895],\n",
       "       [-1.82264543, -1.62948287, -2.09866461],\n",
       "       [ 0.652694  , -1.56152179, -0.22649933],\n",
       "       [-0.88482761, -1.19258569, -0.06553382],\n",
       "       [ 0.80322028,  0.19357553, -1.59608414],\n",
       "       [-1.52567125,  0.82725998,  1.50859232],\n",
       "       [-0.48090308, -1.01613619, -1.23269654],\n",
       "       [ 0.69642374,  0.70856268,  0.86367455],\n",
       "       [ 0.60769456,  1.45886692,  1.1026083 ],\n",
       "       [ 1.44702338,  1.06152278,  1.19771741],\n",
       "       [-0.84304109, -0.02834315, -0.39458775],\n",
       "       [ 0.09676151,  0.18741189, -0.346834  ],\n",
       "       [ 0.84017479,  0.41523303,  1.11921444],\n",
       "       [ 1.02746612, -1.2660875 , -0.10205346],\n",
       "       [-1.72466475, -0.3430802 ,  0.99069777],\n",
       "       [ 0.93826742, -0.27204438,  0.0356758 ],\n",
       "       [-0.93674187, -0.59023588, -0.39458775],\n",
       "       [ 1.27285397, -1.44792482, -0.32336998],\n",
       "       [ 0.04802388,  0.50756488, -0.7740548 ],\n",
       "       [ 1.05376032, -0.28612399, -0.13384051],\n",
       "       [ 1.13797152,  0.38008881, -0.13384051],\n",
       "       [-0.82432769, -0.33590351,  0.66980347],\n",
       "       [ 1.55379249,  0.45008922,  0.76092313],\n",
       "       [-0.29552539, -0.23711359,  0.58357284],\n",
       "       [-0.48458608, -1.71704857,  0.21669702],\n",
       "       [ 1.29846636, -0.06117169, -2.2758464 ],\n",
       "       [-0.50304519, -1.7324148 , -1.21299201],\n",
       "       [ 1.53345233, -1.3771472 , -1.10919482],\n",
       "       [ 1.31077419,  1.27109462, -1.4708598 ],\n",
       "       [-0.77006157,  1.53885314,  0.85283827],\n",
       "       [-1.21308859,  0.35649509,  0.44045973],\n",
       "       [ 0.93531131,  0.96392681,  0.30682057],\n",
       "       [ 0.68018031,  0.08742886,  0.28905461],\n",
       "       [ 0.4165774 ,  0.73579933,  0.58755182],\n",
       "       [ 1.56025605,  0.41523303, -1.93614969],\n",
       "       [ 0.72477076, -0.94246393,  0.04555612],\n",
       "       [-1.50299171,  0.29691633,  0.76465678],\n",
       "       [ 0.39655706,  0.10007132,  0.2845934 ],\n",
       "       [-0.5776425 , -0.81067203,  0.46554742],\n",
       "       [ 1.05181524,  1.15733673, -0.38254334],\n",
       "       [ 0.92742341, -0.35027362,  1.00104316],\n",
       "       [-0.87399682, -0.66162053,  0.51093113],\n",
       "       [ 0.652694  , -1.49718987,  0.41936802],\n",
       "       [-0.44544938, -0.83642883, -1.65023317],\n",
       "       [ 0.82021967,  1.16732335,  0.62310406],\n",
       "       [ 0.47526481,  1.38737344,  1.29005095],\n",
       "       [ 1.27095405,  0.47892195, -0.54515187],\n",
       "       [ 0.6435106 ,  1.53885314,  1.33059751],\n",
       "       [-1.85241088,  0.43850198,  0.6928619 ],\n",
       "       [-0.02694246, -0.11434473, -0.50002298],\n",
       "       [ 0.7640894 ,  1.54819296,  0.54749686],\n",
       "       [ 0.76308359,  0.51896989, -1.03801781],\n",
       "       [-1.06021399, -1.64357954, -0.21538949],\n",
       "       [ 1.25764412,  1.21698291,  1.16198054],\n",
       "       [ 1.04597746, -0.37195568,  0.08950799],\n",
       "       [-0.41751811,  0.52466135, -1.11833294],\n",
       "       [-0.08464536,  1.22192414,  0.16568658],\n",
       "       [-0.84572231, -0.8624742 , -2.12148202],\n",
       "       [-1.39528628,  0.23035564, -1.86501   ],\n",
       "       [ 0.00785902, -0.44537697, -0.96167639],\n",
       "       [ 1.02746612,  0.40355071, -0.89675177],\n",
       "       [ 0.8242145 ,  1.27598779,  0.08466485],\n",
       "       [ 0.64555228,  0.58117899,  0.58755182],\n",
       "       [-0.33228945, -0.46028254,  0.29350789],\n",
       "       [-1.47377148,  0.71402259, -0.33506848],\n",
       "       [-0.10400761, -1.202897  ,  0.27564704],\n",
       "       [ 0.79019725,  0.23035564, -0.73744518],\n",
       "       [-1.65184774,  1.26619715,  2.13937255],\n",
       "       [-1.46187563, -1.70192244, -0.25453031],\n",
       "       [-0.20647326,  0.46164538, -0.65947105],\n",
       "       [-1.89822804,  0.54169198, -1.02934918],\n",
       "       [-0.25902053, -1.00678392, -0.12319395],\n",
       "       [-0.74778651,  0.35649509, -0.16609367],\n",
       "       [ 1.05084254, -1.3771472 ,  0.51501874],\n",
       "       [-0.76218508, -0.04143812,  0.32885333],\n",
       "       [-0.85377796,  1.30525722,  0.46138274],\n",
       "       [ 0.79119975,  1.23179329,  0.38526098],\n",
       "       [ 0.58509675, -0.16835339,  1.50271112],\n",
       "       [-0.74909326,  0.40355071, -0.53863938],\n",
       "       [-0.32158879,  1.11216604,  1.42831665],\n",
       "       [-0.59523084,  0.28489586,  1.72217946],\n",
       "       [-0.33228945,  1.4636021 ,  1.05224719],\n",
       "       [-0.04837336, -1.28768913, -1.03801781],\n",
       "       [-1.44333425, -1.71704857,  0.35069626],\n",
       "       [ 0.8331959 ,  0.74122791,  1.29945293],\n",
       "       [ 1.15818339,  0.90131402,  1.69166052],\n",
       "       [-0.36093577, -0.4827855 , -0.90472726],\n",
       "       [ 0.2709304 ,  0.63699688,  1.1026083 ],\n",
       "       [ 0.63022667, -1.44792482, -1.36815587],\n",
       "       [ 0.49923329,  0.00418624, -0.18240095],\n",
       "       [ 1.52419364,  1.19717332,  1.04546953],\n",
       "       [-0.0382122 ,  1.16732335,  0.86006693],\n",
       "       [ 0.87994389, -1.35429375,  0.99759864],\n",
       "       [ 1.43581778, -0.79365568, -0.21538949],\n",
       "       [ 0.53038105, -0.25104051, -0.41889554],\n",
       "       [ 1.03526502,  0.78443582, -1.43568966],\n",
       "       [-0.00783277,  1.39695704,  1.29945293],\n",
       "       [-1.50472569, -0.71852874,  0.20289058],\n",
       "       [-0.56887482, -1.92277996, -0.11788987],\n",
       "       [-1.72669682, -1.90334954,  0.00577961],\n",
       "       [ 1.20134779,  0.36830859, -1.41277956],\n",
       "       [ 0.91360226, -0.96064272,  1.22025052],\n",
       "       [ 1.06930594,  0.97946003, -0.11788987],\n",
       "       [ 0.40288531, -0.37921745, -1.83137048],\n",
       "       [ 0.75201155, -0.02181365, -0.9207956 ],\n",
       "       [-0.72433929,  1.41607663,  0.41512911],\n",
       "       [-0.76480878,  0.82192754,  1.09594084],\n",
       "       [ 0.00673953, -0.46028254,  0.00577961],\n",
       "       [-0.74778651, -1.83055994, -0.61831443],\n",
       "       [-0.14637764,  0.92227141,  1.87892616],\n",
       "       [-1.60487761, -0.33590351, -0.16609367],\n",
       "       [ 0.03020546,  0.36240602,  0.87087647],\n",
       "       [-1.61600701,  0.04924266,  1.01820721],\n",
       "       [ 0.89579959, -1.58822992, -0.56482448],\n",
       "       [-0.17634363,  0.8005392 , -0.78891695],\n",
       "       [ 0.95008184,  0.67566908,  1.7442111 ],\n",
       "       [-0.60910057, -0.65359273,  0.02077604],\n",
       "       [-1.84082856,  1.02577993,  1.02504572],\n",
       "       [-0.69844865, -1.98495808, -1.04673537],\n",
       "       [ 0.8590884 ,  1.52012963, -1.70718676],\n",
       "       [-0.97412104, -0.63761079,  0.75718457],\n",
       "       [-2.03323356,  1.06152278, -1.09108448],\n",
       "       [ 1.2946762 , -1.52253007,  0.7534411 ],\n",
       "       [-1.82715302,  0.38596655, -1.88228781],\n",
       "       [ 0.85411524,  0.74122791,  0.83104401],\n",
       "       [-1.30867028,  1.0103861 ,  1.49976669],\n",
       "       [-1.13560137,  1.42561279, -1.10919482],\n",
       "       [-1.49434751,  1.03090107, -1.03801781],\n",
       "       [ 1.37490294,  0.48466558,  1.32128542],\n",
       "       [-1.21460127,  0.30890141, -0.2658475 ],\n",
       "       [ 0.49923329,  1.27598779, -1.95484304],\n",
       "       [-0.78718324, -0.2650278 , -0.75199725],\n",
       "       [ 0.59023843,  0.84322253,  1.78244184],\n",
       "       [ 0.86107685,  0.72492349,  0.55555544],\n",
       "       [-0.39456576, -1.202897  ,  0.41088327],\n",
       "       [-0.49688394, -0.42315979,  0.59549238],\n",
       "       [ 0.01904252, -1.65786243, -1.06432036],\n",
       "       [ 1.05376032, -1.04445327, -1.09108448],\n",
       "       [ 1.08385578,  1.52012963,  0.80172759],\n",
       "       [-1.29143203,  1.09702388, -0.82664429],\n",
       "       [-1.1890052 ,  0.30291327, -0.26018131],\n",
       "       [ 1.44048829, -0.49032576,  0.51910011],\n",
       "       [-0.20066619, -0.94246393,  0.95944652],\n",
       "       [ 0.63022667,  0.15022331, -0.65947105],\n",
       "       [ 0.35634693,  1.06660903,  0.54749686],\n",
       "       [ 0.52934487,  0.01065705, -1.02072873],\n",
       "       [-1.93163495, -0.66967326, -1.39027462],\n",
       "       [-0.52529469,  1.25638925,  1.02162839],\n",
       "       [ 0.12428563, -1.74803521, -0.06036496],\n",
       "       [-1.75555556,  0.92227141,  0.83468776],\n",
       "       [-0.07782712, -0.16835339,  0.41936802],\n",
       "       [ 0.36906953, -0.18883181,  0.24861364],\n",
       "       [-0.62808655,  0.86442562,  0.98031676],\n",
       "       [ 0.5355598 , -0.18883181,  0.00577961],\n",
       "       [ 0.2730788 ,  0.91704026, -1.21299201],\n",
       "       [-0.24495734, -0.43054692, -1.42418272],\n",
       "       [ 0.99913782, -1.46007371,  2.02414625],\n",
       "       [-1.63286723,  0.95873855, -0.20433701],\n",
       "       [ 0.72376009, -1.25539136, -0.32921092],\n",
       "       [ 0.81022423,  0.16886223,  1.25534066],\n",
       "       [ 1.47405264, -0.75163452, -1.31443661],\n",
       "       [-1.11073781, -0.66967326, -0.38855655],\n",
       "       [ 0.28381064, -0.00229617,  0.91372099],\n",
       "       [-1.60118681, -0.05458158, -0.47470116],\n",
       "       [ 0.32550506, -1.06355551, -0.75931882],\n",
       "       [ 0.87994389, -1.46007371, -0.73744518],\n",
       "       [ 1.40493806,  1.51543955,  0.70812926],\n",
       "       [ 1.13411664,  0.55865764, -0.27722588],\n",
       "       [ 0.34466429, -0.99747386,  0.44465771],\n",
       "       [ 1.40306351, -1.60181548, -0.09155822],\n",
       "       [ 0.29559622, -0.80214864, -0.43732278],\n",
       "       [ 0.19855946, -1.56152179, -1.12752759],\n",
       "       [ 0.8411713 , -1.23420066,  0.09434122],\n",
       "       [-1.02181379, -1.202897  ,  0.20289058],\n",
       "       [ 1.50472337,  1.23179329,  1.67770049],\n",
       "       [ 1.18602318,  0.02356422,  0.21669702],\n",
       "       [ 0.70554619,  1.33437513, -0.31754553],\n",
       "       [ 0.01009737, -1.62948287,  0.05539471],\n",
       "       [ 0.56346396,  0.47317073, -0.40063711],\n",
       "       [ 1.48986416, -0.49032576, -1.63644784],\n",
       "       [-1.61787038, -0.62965614, -0.1073197 ],\n",
       "       [-1.26812741,  1.13730782, -1.3791681 ],\n",
       "       [-0.75956316, -0.73502642, -1.3572358 ],\n",
       "       [-1.6461253 , -1.3771472 ,  0.28905461],\n",
       "       [ 0.30843016,  1.18226883, -1.65023317],\n",
       "       [ 0.12318696,  0.85383548, -1.3572358 ],\n",
       "       [-1.28831146, -1.42394128, -0.68743455],\n",
       "       [-0.52157887, -1.28768913, -1.14609038],\n",
       "       [ 0.4165774 , -0.8624742 , -1.31443661],\n",
       "       [ 1.4675349 ,  1.18226883,  1.51739504],\n",
       "       [ 0.97562509, -0.92443675, -1.09108448]])"
      ]
     },
     "execution_count": 323,
     "metadata": {},
     "output_type": "execute_result"
    }
   ],
   "source": [
    "from sklearn.preprocessing import StandardScaler\n",
    "sc=StandardScaler()\n",
    "x=sc.fit_transform(x)\n",
    "x"
   ]
  },
  {
   "cell_type": "code",
   "execution_count": 326,
   "id": "1ed0c5d7",
   "metadata": {},
   "outputs": [
    {
     "data": {
      "text/plain": [
       "TV          -0.069853\n",
       "radio        0.094175\n",
       "newspaper    0.894720\n",
       "sales        0.407571\n",
       "dtype: float64"
      ]
     },
     "execution_count": 326,
     "metadata": {},
     "output_type": "execute_result"
    }
   ],
   "source": [
    "sales.skew()"
   ]
  },
  {
   "cell_type": "code",
   "execution_count": 325,
   "id": "9759e465",
   "metadata": {},
   "outputs": [
    {
     "data": {
      "image/png": "[encoded data removed]",
      "text/plain": [
       "<Figure size 288x864 with 4 Axes>"
      ]
     },
     "metadata": {
      "needs_background": "light"
     },
     "output_type": "display_data"
    }
   ],
   "source": [
    "collist=sales.columns.values\n",
    "ncol=2\n",
    "nrows=4\n",
    "plt.figure(figsize=(nrows,3*nrows))\n",
    "for i in range(0,len(collist)):\n",
    "    plt.subplot(nrows,ncol,i+1)\n",
    "    sns.distplot(sales[collist[i]])\n",
    "    plt.tight_layout()"
   ]
  },
  {
   "cell_type": "code",
   "execution_count": 264,
   "id": "2ac4c756",
   "metadata": {},
   "outputs": [],
   "source": [
    "import sklearn\n",
    "from sklearn.linear_model import LinearRegression\n",
    "from sklearn.model_selection import train_test_split\n",
    "from sklearn.preprocessing import MinMaxScaler\n",
    "mms=MinMaxScaler()\n",
    "from sklearn.metrics import r2_score\n",
    "lr=LinearRegression()"
   ]
  },
  {
   "cell_type": "code",
   "execution_count": 135,
   "id": "4dc8df66",
   "metadata": {},
   "outputs": [],
   "source": [
    "sources=sales.drop('sales',axis=1)\n",
    "target=sales['sales']"
   ]
  },
  {
   "cell_type": "code",
   "execution_count": 136,
   "id": "c27cb70b",
   "metadata": {},
   "outputs": [
    {
     "name": "stdout",
     "output_type": "stream",
     "text": [
      "At random state 0,the training accuracy is:- 0.9072183330817297\n",
      "At random state 0,the training accuracy is:- 0.8576396745320894\n",
      "\n",
      "\n",
      "At random state 1,the training accuracy is:- 0.890307557755665\n",
      "At random state 1,the training accuracy is:- 0.9156213613792232\n",
      "\n",
      "\n",
      "At random state 2,the training accuracy is:- 0.9322395888715463\n",
      "At random state 2,the training accuracy is:- 0.7558194773721316\n",
      "\n",
      "\n",
      "At random state 3,the training accuracy is:- 0.9009381215792123\n",
      "At random state 3,the training accuracy is:- 0.8829078884253614\n",
      "\n",
      "\n",
      "At random state 4,the training accuracy is:- 0.8893590351773576\n",
      "At random state 4,the training accuracy is:- 0.9157191830180073\n",
      "\n",
      "\n",
      "At random state 5,the training accuracy is:- 0.9002172879046075\n",
      "At random state 5,the training accuracy is:- 0.8838181418224292\n",
      "\n",
      "\n",
      "At random state 6,the training accuracy is:- 0.8927531633218303\n",
      "At random state 6,the training accuracy is:- 0.9117236844712061\n",
      "\n",
      "\n",
      "At random state 7,the training accuracy is:- 0.8933316510408247\n",
      "At random state 7,the training accuracy is:- 0.9044150723953952\n",
      "\n",
      "\n",
      "At random state 8,the training accuracy is:- 0.9048782574877019\n",
      "At random state 8,the training accuracy is:- 0.8667758084597591\n",
      "\n",
      "\n",
      "At random state 9,the training accuracy is:- 0.8924238900081068\n",
      "At random state 9,the training accuracy is:- 0.9071997508423262\n",
      "\n",
      "\n",
      "At random state 10,the training accuracy is:- 0.9238935852366272\n",
      "At random state 10,the training accuracy is:- 0.836684397405523\n",
      "\n",
      "\n",
      "At random state 11,the training accuracy is:- 0.9013302167604123\n",
      "At random state 11,the training accuracy is:- 0.8692372171143042\n",
      "\n",
      "\n",
      "At random state 12,the training accuracy is:- 0.8924071311819637\n",
      "At random state 12,the training accuracy is:- 0.9074967628613593\n",
      "\n",
      "\n",
      "At random state 13,the training accuracy is:- 0.8812450854813199\n",
      "At random state 13,the training accuracy is:- 0.9329679186406995\n",
      "\n",
      "\n",
      "At random state 14,the training accuracy is:- 0.9059811324115422\n",
      "At random state 14,the training accuracy is:- 0.8697874025357979\n",
      "\n",
      "\n",
      "At random state 15,the training accuracy is:- 0.8937027182030528\n",
      "At random state 15,the training accuracy is:- 0.9042108940079046\n",
      "\n",
      "\n",
      "At random state 16,the training accuracy is:- 0.8941310904142987\n",
      "At random state 16,the training accuracy is:- 0.9063440181751056\n",
      "\n",
      "\n",
      "At random state 17,the training accuracy is:- 0.9111223376326951\n",
      "At random state 17,the training accuracy is:- 0.8429263407537217\n",
      "\n",
      "\n",
      "At random state 18,the training accuracy is:- 0.9043115193928353\n",
      "At random state 18,the training accuracy is:- 0.8768164503326361\n",
      "\n",
      "\n",
      "At random state 19,the training accuracy is:- 0.8942860106372139\n",
      "At random state 19,the training accuracy is:- 0.8982572127330379\n",
      "\n",
      "\n",
      "At random state 20,the training accuracy is:- 0.9115679170982783\n",
      "At random state 20,the training accuracy is:- 0.8601993386354956\n",
      "\n",
      "\n",
      "At random state 21,the training accuracy is:- 0.8851029461177776\n",
      "At random state 21,the training accuracy is:- 0.9219136041031581\n",
      "\n",
      "\n",
      "At random state 22,the training accuracy is:- 0.8906528393320295\n",
      "At random state 22,the training accuracy is:- 0.9144692690504648\n",
      "\n",
      "\n",
      "At random state 23,the training accuracy is:- 0.8849819470841145\n",
      "At random state 23,the training accuracy is:- 0.9197128083738796\n",
      "\n",
      "\n",
      "At random state 24,the training accuracy is:- 0.899540493821616\n",
      "At random state 24,the training accuracy is:- 0.8877732345406749\n",
      "\n",
      "\n",
      "At random state 25,the training accuracy is:- 0.9008615611476412\n",
      "At random state 25,the training accuracy is:- 0.8812441427551714\n",
      "\n",
      "\n",
      "At random state 26,the training accuracy is:- 0.9004356630519595\n",
      "At random state 26,the training accuracy is:- 0.8778867145626432\n",
      "\n",
      "\n",
      "At random state 27,the training accuracy is:- 0.8962666784862754\n",
      "At random state 27,the training accuracy is:- 0.8969447297214868\n",
      "\n",
      "\n",
      "At random state 28,the training accuracy is:- 0.8932670851789962\n",
      "At random state 28,the training accuracy is:- 0.9051411159792939\n",
      "\n",
      "\n",
      "At random state 29,the training accuracy is:- 0.8909428804327668\n",
      "At random state 29,the training accuracy is:- 0.9001120338383457\n",
      "\n",
      "\n",
      "At random state 30,the training accuracy is:- 0.8875044615609622\n",
      "At random state 30,the training accuracy is:- 0.9191674086367524\n",
      "\n",
      "\n",
      "At random state 31,the training accuracy is:- 0.8853095593446951\n",
      "At random state 31,the training accuracy is:- 0.9274788307471853\n",
      "\n",
      "\n",
      "At random state 32,the training accuracy is:- 0.916656791916533\n",
      "At random state 32,the training accuracy is:- 0.8244009632239099\n",
      "\n",
      "\n",
      "At random state 33,the training accuracy is:- 0.8873786414956053\n",
      "At random state 33,the training accuracy is:- 0.9217933306319246\n",
      "\n",
      "\n",
      "At random state 34,the training accuracy is:- 0.8945374730764291\n",
      "At random state 34,the training accuracy is:- 0.9016142017731229\n",
      "\n",
      "\n",
      "At random state 35,the training accuracy is:- 0.9196283835709537\n",
      "At random state 35,the training accuracy is:- 0.7747938634678532\n",
      "\n",
      "\n",
      "At random state 36,the training accuracy is:- 0.8913256922620638\n",
      "At random state 36,the training accuracy is:- 0.9127563183970624\n",
      "\n",
      "\n",
      "At random state 37,the training accuracy is:- 0.9007855652944046\n",
      "At random state 37,the training accuracy is:- 0.8797183787611137\n",
      "\n",
      "\n",
      "At random state 38,the training accuracy is:- 0.8971393697356236\n",
      "At random state 38,the training accuracy is:- 0.8929040119659395\n",
      "\n",
      "\n",
      "At random state 39,the training accuracy is:- 0.892067651569716\n",
      "At random state 39,the training accuracy is:- 0.9067416005164273\n",
      "\n",
      "\n",
      "At random state 40,the training accuracy is:- 0.9192570260068288\n",
      "At random state 40,the training accuracy is:- 0.8180628772556524\n",
      "\n",
      "\n",
      "At random state 41,the training accuracy is:- 0.8966507194313771\n",
      "At random state 41,the training accuracy is:- 0.8962913252219634\n",
      "\n",
      "\n",
      "At random state 42,the training accuracy is:- 0.8966445527601498\n",
      "At random state 42,the training accuracy is:- 0.8935163320163658\n",
      "\n",
      "\n",
      "At random state 43,the training accuracy is:- 0.8854273016843555\n",
      "At random state 43,the training accuracy is:- 0.9288546462999523\n",
      "\n",
      "\n",
      "At random state 44,the training accuracy is:- 0.9075488068625788\n",
      "At random state 44,the training accuracy is:- 0.8305483472800643\n",
      "\n",
      "\n",
      "At random state 45,the training accuracy is:- 0.8932517725435435\n",
      "At random state 45,the training accuracy is:- 0.9035487616562968\n",
      "\n",
      "\n",
      "At random state 46,the training accuracy is:- 0.9001827619155377\n",
      "At random state 46,the training accuracy is:- 0.8695983142378588\n",
      "\n",
      "\n",
      "At random state 47,the training accuracy is:- 0.9115017572364001\n",
      "At random state 47,the training accuracy is:- 0.8391648650488279\n",
      "\n",
      "\n",
      "At random state 48,the training accuracy is:- 0.8867267994361421\n",
      "At random state 48,the training accuracy is:- 0.925995758804734\n",
      "\n",
      "\n",
      "At random state 49,the training accuracy is:- 0.9207934101214614\n",
      "At random state 49,the training accuracy is:- 0.8049578006977757\n",
      "\n",
      "\n",
      "At random state 50,the training accuracy is:- 0.898584211518602\n",
      "At random state 50,the training accuracy is:- 0.8789006652994475\n",
      "\n",
      "\n",
      "At random state 51,the training accuracy is:- 0.893122997061015\n",
      "At random state 51,the training accuracy is:- 0.9019163360048592\n",
      "\n",
      "\n",
      "At random state 52,the training accuracy is:- 0.8981987567542196\n",
      "At random state 52,the training accuracy is:- 0.8913454190688576\n",
      "\n",
      "\n",
      "At random state 53,the training accuracy is:- 0.8885117140639793\n",
      "At random state 53,the training accuracy is:- 0.9193010386229923\n",
      "\n",
      "\n",
      "At random state 54,the training accuracy is:- 0.8900894304659701\n",
      "At random state 54,the training accuracy is:- 0.9187017470701987\n",
      "\n",
      "\n",
      "At random state 55,the training accuracy is:- 0.892990751586333\n",
      "At random state 55,the training accuracy is:- 0.9057620181752584\n",
      "\n",
      "\n",
      "At random state 56,the training accuracy is:- 0.8986882561155822\n",
      "At random state 56,the training accuracy is:- 0.8906299261177035\n",
      "\n",
      "\n",
      "At random state 57,the training accuracy is:- 0.8846483257359762\n",
      "At random state 57,the training accuracy is:- 0.9306432988266021\n",
      "\n",
      "\n",
      "At random state 58,the training accuracy is:- 0.9221463629713987\n",
      "At random state 58,the training accuracy is:- 0.8270894345353439\n",
      "\n",
      "\n",
      "At random state 59,the training accuracy is:- 0.8858207113659384\n",
      "At random state 59,the training accuracy is:- 0.9245240133969751\n",
      "\n",
      "\n",
      "At random state 60,the training accuracy is:- 0.8888915805800682\n",
      "At random state 60,the training accuracy is:- 0.9155306477114974\n",
      "\n",
      "\n",
      "At random state 61,the training accuracy is:- 0.897961090414086\n",
      "At random state 61,the training accuracy is:- 0.8927246251346078\n",
      "\n",
      "\n",
      "At random state 62,the training accuracy is:- 0.9124914339822602\n",
      "At random state 62,the training accuracy is:- 0.8516790241586176\n",
      "\n",
      "\n",
      "At random state 63,the training accuracy is:- 0.8997129310546098\n",
      "At random state 63,the training accuracy is:- 0.8798390636738597\n",
      "\n",
      "\n",
      "At random state 64,the training accuracy is:- 0.9090007428485054\n",
      "At random state 64,the training accuracy is:- 0.8620749667277625\n",
      "\n",
      "\n",
      "At random state 65,the training accuracy is:- 0.890683859267025\n",
      "At random state 65,the training accuracy is:- 0.9143098304237811\n",
      "\n",
      "\n",
      "At random state 66,the training accuracy is:- 0.9028589209957651\n",
      "At random state 66,the training accuracy is:- 0.8797817114430063\n",
      "\n",
      "\n",
      "At random state 67,the training accuracy is:- 0.8988738689681309\n",
      "At random state 67,the training accuracy is:- 0.8867958519614397\n",
      "\n",
      "\n",
      "At random state 68,the training accuracy is:- 0.8957409092383819\n",
      "At random state 68,the training accuracy is:- 0.8871963829854729\n",
      "\n",
      "\n",
      "At random state 69,the training accuracy is:- 0.8821708825937394\n",
      "At random state 69,the training accuracy is:- 0.9288427743492059\n",
      "\n",
      "\n",
      "At random state 70,the training accuracy is:- 0.8886677385730575\n",
      "At random state 70,the training accuracy is:- 0.9086686660884566\n",
      "\n",
      "\n",
      "At random state 71,the training accuracy is:- 0.9161189244189819\n",
      "At random state 71,the training accuracy is:- 0.8280673461167765\n",
      "\n",
      "\n",
      "At random state 72,the training accuracy is:- 0.8921102463992691\n",
      "At random state 72,the training accuracy is:- 0.9083391029437632\n",
      "\n",
      "\n",
      "At random state 73,the training accuracy is:- 0.9118827424311392\n",
      "At random state 73,the training accuracy is:- 0.8383891745736054\n",
      "\n",
      "\n",
      "At random state 74,the training accuracy is:- 0.8979045646881902\n",
      "At random state 74,the training accuracy is:- 0.8840099753755182\n",
      "\n",
      "\n",
      "At random state 75,the training accuracy is:- 0.8896641102785563\n",
      "At random state 75,the training accuracy is:- 0.9130868371898684\n",
      "\n",
      "\n",
      "At random state 76,the training accuracy is:- 0.9048867960504854\n",
      "At random state 76,the training accuracy is:- 0.8540143947182058\n",
      "\n",
      "\n",
      "At random state 77,the training accuracy is:- 0.8883278376574346\n",
      "At random state 77,the training accuracy is:- 0.92193349094449\n",
      "\n",
      "\n",
      "At random state 78,the training accuracy is:- 0.8943734304141384\n",
      "At random state 78,the training accuracy is:- 0.9039730701385864\n",
      "\n",
      "\n",
      "At random state 79,the training accuracy is:- 0.8895109018765757\n",
      "At random state 79,the training accuracy is:- 0.9078243420563885\n",
      "\n",
      "\n",
      "At random state 80,the training accuracy is:- 0.9091822577142286\n",
      "At random state 80,the training accuracy is:- 0.8591642655025514\n",
      "\n",
      "\n",
      "At random state 81,the training accuracy is:- 0.901712566327286\n",
      "At random state 81,the training accuracy is:- 0.8791024370689235\n",
      "\n",
      "\n",
      "At random state 82,the training accuracy is:- 0.9150602916015197\n",
      "At random state 82,the training accuracy is:- 0.8281757952511548\n",
      "\n",
      "\n",
      "At random state 83,the training accuracy is:- 0.8871638043280671\n",
      "At random state 83,the training accuracy is:- 0.9168726382801216\n",
      "\n",
      "\n",
      "At random state 84,the training accuracy is:- 0.8887480006884748\n",
      "At random state 84,the training accuracy is:- 0.9166537674543114\n",
      "\n",
      "\n",
      "At random state 85,the training accuracy is:- 0.9075758547585554\n",
      "At random state 85,the training accuracy is:- 0.8575876458943543\n",
      "\n",
      "\n",
      "At random state 86,the training accuracy is:- 0.9078346250743308\n",
      "At random state 86,the training accuracy is:- 0.8668985217062709\n",
      "\n",
      "\n",
      "At random state 87,the training accuracy is:- 0.9102908294292745\n",
      "At random state 87,the training accuracy is:- 0.8458749641721199\n",
      "\n",
      "\n",
      "At random state 88,the training accuracy is:- 0.9080048348940353\n",
      "At random state 88,the training accuracy is:- 0.8596416485962016\n",
      "\n",
      "\n",
      "At random state 89,the training accuracy is:- 0.9013930478372114\n",
      "At random state 89,the training accuracy is:- 0.8736827496134012\n",
      "\n",
      "\n",
      "At random state 90,the training accuracy is:- 0.9055892665964385\n",
      "At random state 90,the training accuracy is:- 0.8428243401966475\n",
      "\n",
      "\n",
      "At random state 91,the training accuracy is:- 0.8809101690909145\n",
      "At random state 91,the training accuracy is:- 0.9139745973467448\n",
      "\n",
      "\n",
      "At random state 92,the training accuracy is:- 0.8884599284291863\n",
      "At random state 92,the training accuracy is:- 0.9181906443189416\n",
      "\n",
      "\n",
      "At random state 93,the training accuracy is:- 0.898591876884947\n",
      "At random state 93,the training accuracy is:- 0.889241304251823\n",
      "\n",
      "\n",
      "At random state 94,the training accuracy is:- 0.9039468958039526\n",
      "At random state 94,the training accuracy is:- 0.878944196552609\n",
      "\n",
      "\n",
      "At random state 95,the training accuracy is:- 0.8863455433096642\n",
      "At random state 95,the training accuracy is:- 0.9074438760288213\n",
      "\n",
      "\n",
      "At random state 96,the training accuracy is:- 0.9024534489343956\n",
      "At random state 96,the training accuracy is:- 0.867149869271709\n",
      "\n",
      "\n",
      "At random state 97,the training accuracy is:- 0.8949567352942828\n",
      "At random state 97,the training accuracy is:- 0.8925580337393879\n",
      "\n",
      "\n",
      "At random state 98,the training accuracy is:- 0.8864529092369301\n",
      "At random state 98,the training accuracy is:- 0.9193602759573388\n",
      "\n",
      "\n",
      "At random state 99,the training accuracy is:- 0.8884309168287349\n",
      "At random state 99,the training accuracy is:- 0.9175057618627588\n",
      "\n",
      "\n",
      "At random state 100,the training accuracy is:- 0.89436812387285\n",
      "At random state 100,the training accuracy is:- 0.9018593061633755\n",
      "\n",
      "\n",
      "At random state 101,the training accuracy is:- 0.8865137139252313\n",
      "At random state 101,the training accuracy is:- 0.9246764680774093\n",
      "\n",
      "\n",
      "At random state 102,the training accuracy is:- 0.8967988120789002\n",
      "At random state 102,the training accuracy is:- 0.8974212781761611\n",
      "\n",
      "\n",
      "At random state 103,the training accuracy is:- 0.8929264297089242\n",
      "At random state 103,the training accuracy is:- 0.9102645866747083\n",
      "\n",
      "\n",
      "At random state 104,the training accuracy is:- 0.9143281119949465\n",
      "At random state 104,the training accuracy is:- 0.8516570389340615\n",
      "\n",
      "\n",
      "At random state 105,the training accuracy is:- 0.8967960413086054\n",
      "At random state 105,the training accuracy is:- 0.8941183115592793\n",
      "\n",
      "\n",
      "At random state 106,the training accuracy is:- 0.8956339255834926\n",
      "At random state 106,the training accuracy is:- 0.9011287270758336\n",
      "\n",
      "\n",
      "At random state 107,the training accuracy is:- 0.9081435524560095\n",
      "At random state 107,the training accuracy is:- 0.8646269565829516\n",
      "\n",
      "\n",
      "At random state 108,the training accuracy is:- 0.8959921123144353\n",
      "At random state 108,the training accuracy is:- 0.8954210749350504\n",
      "\n",
      "\n",
      "At random state 109,the training accuracy is:- 0.9132414904106033\n",
      "At random state 109,the training accuracy is:- 0.8608019001677991\n",
      "\n",
      "\n",
      "At random state 110,the training accuracy is:- 0.8878817644932182\n",
      "At random state 110,the training accuracy is:- 0.918594191029674\n",
      "\n",
      "\n",
      "At random state 111,the training accuracy is:- 0.9108403854394758\n",
      "At random state 111,the training accuracy is:- 0.8693505685953098\n",
      "\n",
      "\n",
      "At random state 112,the training accuracy is:- 0.8936578642779059\n",
      "At random state 112,the training accuracy is:- 0.9069925502694255\n",
      "\n",
      "\n",
      "At random state 113,the training accuracy is:- 0.8891380280666055\n",
      "At random state 113,the training accuracy is:- 0.9223330219812257\n",
      "\n",
      "\n",
      "At random state 114,the training accuracy is:- 0.8980592614931943\n",
      "At random state 114,the training accuracy is:- 0.8887223826273931\n",
      "\n",
      "\n",
      "At random state 115,the training accuracy is:- 0.8862741679553272\n",
      "At random state 115,the training accuracy is:- 0.9170486047913194\n",
      "\n",
      "\n",
      "At random state 116,the training accuracy is:- 0.9022002095585189\n",
      "At random state 116,the training accuracy is:- 0.8774854771041991\n",
      "\n",
      "\n",
      "At random state 117,the training accuracy is:- 0.8920614479061996\n",
      "At random state 117,the training accuracy is:- 0.9035348562815876\n",
      "\n",
      "\n",
      "At random state 118,the training accuracy is:- 0.8936756072446698\n",
      "At random state 118,the training accuracy is:- 0.906669228179767\n",
      "\n",
      "\n",
      "At random state 119,the training accuracy is:- 0.9173667719995381\n",
      "At random state 119,the training accuracy is:- 0.8091584458271209\n",
      "\n",
      "\n",
      "At random state 120,the training accuracy is:- 0.914487961366957\n",
      "At random state 120,the training accuracy is:- 0.8262673770214968\n",
      "\n",
      "\n",
      "At random state 121,the training accuracy is:- 0.9010506200343141\n",
      "At random state 121,the training accuracy is:- 0.8831446743363944\n",
      "\n",
      "\n",
      "At random state 122,the training accuracy is:- 0.9168596289351918\n",
      "At random state 122,the training accuracy is:- 0.8226385159060305\n",
      "\n",
      "\n",
      "At random state 123,the training accuracy is:- 0.8904267818088644\n",
      "At random state 123,the training accuracy is:- 0.91746806784834\n",
      "\n",
      "\n",
      "At random state 124,the training accuracy is:- 0.8870026744745438\n",
      "At random state 124,the training accuracy is:- 0.913406976409802\n",
      "\n",
      "\n",
      "At random state 125,the training accuracy is:- 0.9055052062116216\n",
      "At random state 125,the training accuracy is:- 0.8629706156598546\n",
      "\n",
      "\n",
      "At random state 126,the training accuracy is:- 0.8946859799845489\n",
      "At random state 126,the training accuracy is:- 0.8946731703900874\n",
      "\n",
      "\n",
      "At random state 127,the training accuracy is:- 0.9055378868800733\n",
      "At random state 127,the training accuracy is:- 0.8679205950425748\n",
      "\n",
      "\n",
      "At random state 128,the training accuracy is:- 0.893665663079006\n",
      "At random state 128,the training accuracy is:- 0.9037814359195442\n",
      "\n",
      "\n",
      "At random state 129,the training accuracy is:- 0.9010901638099055\n",
      "At random state 129,the training accuracy is:- 0.8776914498568129\n",
      "\n",
      "\n",
      "At random state 130,the training accuracy is:- 0.9004174054922153\n",
      "At random state 130,the training accuracy is:- 0.8859423360001761\n",
      "\n",
      "\n",
      "At random state 131,the training accuracy is:- 0.8917364651482297\n",
      "At random state 131,the training accuracy is:- 0.9102065506143202\n",
      "\n",
      "\n",
      "At random state 132,the training accuracy is:- 0.8972285681013572\n",
      "At random state 132,the training accuracy is:- 0.8952212692123087\n",
      "\n",
      "\n",
      "At random state 133,the training accuracy is:- 0.9072386704550575\n",
      "At random state 133,the training accuracy is:- 0.856998666790069\n",
      "\n",
      "\n",
      "At random state 134,the training accuracy is:- 0.9071502426768824\n",
      "At random state 134,the training accuracy is:- 0.8699282096488484\n",
      "\n",
      "\n",
      "At random state 135,the training accuracy is:- 0.9090917793660529\n",
      "At random state 135,the training accuracy is:- 0.8621971348266402\n",
      "\n",
      "\n",
      "At random state 136,the training accuracy is:- 0.9082167440690408\n",
      "At random state 136,the training accuracy is:- 0.8601146379130508\n",
      "\n",
      "\n",
      "At random state 137,the training accuracy is:- 0.8861949888167917\n",
      "At random state 137,the training accuracy is:- 0.9285550747627594\n",
      "\n",
      "\n",
      "At random state 138,the training accuracy is:- 0.8880436482513029\n",
      "At random state 138,the training accuracy is:- 0.9148095039965508\n",
      "\n",
      "\n",
      "At random state 139,the training accuracy is:- 0.8708869676275999\n",
      "At random state 139,the training accuracy is:- 0.9407274156782429\n",
      "\n",
      "\n",
      "At random state 140,the training accuracy is:- 0.9117282048861336\n",
      "At random state 140,the training accuracy is:- 0.852216809935549\n",
      "\n",
      "\n",
      "At random state 141,the training accuracy is:- 0.8899555036717613\n",
      "At random state 141,the training accuracy is:- 0.9076446284672582\n",
      "\n",
      "\n",
      "At random state 142,the training accuracy is:- 0.9145985274224209\n",
      "At random state 142,the training accuracy is:- 0.8321523601270095\n",
      "\n",
      "\n",
      "At random state 143,the training accuracy is:- 0.9091708996749981\n",
      "At random state 143,the training accuracy is:- 0.8640240449402354\n",
      "\n",
      "\n",
      "At random state 144,the training accuracy is:- 0.8942514690617982\n",
      "At random state 144,the training accuracy is:- 0.9005939192081599\n",
      "\n",
      "\n",
      "At random state 145,the training accuracy is:- 0.9164281452327835\n",
      "At random state 145,the training accuracy is:- 0.8368751942239485\n",
      "\n",
      "\n",
      "At random state 146,the training accuracy is:- 0.8960837435476896\n",
      "At random state 146,the training accuracy is:- 0.8990595899842987\n",
      "\n",
      "\n",
      "At random state 147,the training accuracy is:- 0.9145058309963455\n",
      "At random state 147,the training accuracy is:- 0.8488633849952478\n",
      "\n",
      "\n",
      "At random state 148,the training accuracy is:- 0.8926175575806125\n",
      "At random state 148,the training accuracy is:- 0.9075449328831523\n",
      "\n",
      "\n",
      "At random state 149,the training accuracy is:- 0.9080633920222315\n",
      "At random state 149,the training accuracy is:- 0.8575555893054643\n",
      "\n",
      "\n"
     ]
    }
   ],
   "source": [
    "for i in range(0,150):\n",
    "    sources_train,sources_test,target_train,target_test=train_test_split(sources,target,random_state=i,test_size=0.25)\n",
    "    lr.fit(sources_train,target_train)\n",
    "    pred_train=lr.predict(sources_train)\n",
    "    pred_test=lr.predict(sources_test)\n",
    "    print(f\"At random state {i},the training accuracy is:- {r2_score(target_train,pred_train)}\")\n",
    "    print(f\"At random state {i},the training accuracy is:- {r2_score(target_test,pred_test)}\")\n",
    "    print(\"\\n\")\n",
    "    "
   ]
  },
  {
   "cell_type": "code",
   "execution_count": 140,
   "id": "fff80210",
   "metadata": {
    "scrolled": true
   },
   "outputs": [
    {
     "name": "stdout",
     "output_type": "stream",
     "text": [
      "0.9079628095123551\n"
     ]
    }
   ],
   "source": [
    "sources_train,sources_test,target_train,target_test=train_test_split(sources,target,random_state=156,test_size=0.25)\n",
    "lr.fit(sources_train,target_train)\n",
    "pred_test=lr.predict(sources_test)\n",
    "print(r2_score(target_test,pred_test))"
   ]
  },
  {
   "cell_type": "code",
   "execution_count": 142,
   "id": "46d33b06",
   "metadata": {},
   "outputs": [
    {
     "data": {
      "image/png": "[encoded data removed]",
      "text/plain": [
       "<Figure size 576x432 with 1 Axes>"
      ]
     },
     "metadata": {
      "needs_background": "light"
     },
     "output_type": "display_data"
    }
   ],
   "source": [
    "plt.figure(figsize=(8,6))\n",
    "plt.scatter(x=target_test,y=pred_test,color='y')\n",
    "plt.plot(target_test,target_test,color='b')\n",
    "plt.xlabel('sources',fontsize=14)\n",
    "plt.ylabel('target',fontsize=14)\n",
    "plt.title('Linear Regression',fontsize=18)\n",
    "plt.show()"
   ]
  },
  {
   "cell_type": "code",
   "execution_count": 344,
   "id": "a3945fc7",
   "metadata": {},
   "outputs": [
    {
     "ename": "SyntaxError",
     "evalue": "invalid syntax (<ipython-input-344-b00b33e11b47>, line 6)",
     "output_type": "error",
     "traceback": [
      "\u001b[0;36m  File \u001b[0;32m\"<ipython-input-344-b00b33e11b47>\"\u001b[0;36m, line \u001b[0;32m6\u001b[0m\n\u001b[0;31m    'n_estimators':[20,50,100],\u001b[0m\n\u001b[0m    ^\u001b[0m\n\u001b[0;31mSyntaxError\u001b[0m\u001b[0;31m:\u001b[0m invalid syntax\n"
     ]
    }
   ],
   "source": [
    "from sklearn.model_selection import GridSearchCV\n",
    "from sklearn.linear_model import Lasso\n",
    "ls=Lasso()\n",
    "parameters={'alpha':[.002,.02,.2,20,200],\n",
    "           'random_state':list(range(0,100))\n",
    "            'n_estimators':[20,50,100],\n",
    "            'max_features':['auto','sqrt']}\n",
    "Gs=GridSearchCV(ls,parameters)\n",
    "Gs.fit(sources_train,target_train)\n",
    "print(Gs.best_params_)"
   ]
  },
  {
   "cell_type": "code",
   "execution_count": 341,
   "id": "47ceeee2",
   "metadata": {},
   "outputs": [
    {
     "data": {
      "text/plain": [
       "89.26720613740807"
      ]
     },
     "execution_count": 341,
     "metadata": {},
     "output_type": "execute_result"
    }
   ],
   "source": [
    "ls=Lasso(alpha=0.2,random_state=0)\n",
    "ls.fit(sources_train,target_train)\n",
    "ls_score_training=ls.score(sources_train,target_train)\n",
    "pred_ls=ls.predict(sources_test)\n",
    "ls_score_training*100"
   ]
  },
  {
   "cell_type": "code",
   "execution_count": 145,
   "id": "273dc3da",
   "metadata": {},
   "outputs": [
    {
     "data": {
      "text/plain": [
       "90.82422093658063"
      ]
     },
     "execution_count": 145,
     "metadata": {},
     "output_type": "execute_result"
    }
   ],
   "source": [
    "lss=r2_score(target_test,pred_ls)\n",
    "lss*100"
   ]
  },
  {
   "cell_type": "code",
   "execution_count": 152,
   "id": "d4c3e034",
   "metadata": {},
   "outputs": [],
   "source": [
    "from sklearn.model_selection import cross_val_score\n"
   ]
  },
  {
   "cell_type": "code",
   "execution_count": 151,
   "id": "4ac977f0",
   "metadata": {
    "scrolled": true
   },
   "outputs": [
    {
     "name": "stdout",
     "output_type": "stream",
     "text": [
      "At cross fold2,the cv score is 0.8908473589845056 and accuracy score for training is -1.0226289709503202 and accuracy for the testing 0.9079628095123551\n",
      "\n",
      "\n",
      "At cross fold3,the cv score is 0.8916464591145559 and accuracy score for training is -1.0226289709503202 and accuracy for the testing 0.9079628095123551\n",
      "\n",
      "\n",
      "At cross fold4,the cv score is 0.8900070660549507 and accuracy score for training is -1.0226289709503202 and accuracy for the testing 0.9079628095123551\n",
      "\n",
      "\n",
      "At cross fold5,the cv score is 0.8871063495438435 and accuracy score for training is -1.0226289709503202 and accuracy for the testing 0.9079628095123551\n",
      "\n",
      "\n",
      "At cross fold6,the cv score is 0.8899208882186672 and accuracy score for training is -1.0226289709503202 and accuracy for the testing 0.9079628095123551\n",
      "\n",
      "\n",
      "At cross fold7,the cv score is 0.8859930219823539 and accuracy score for training is -1.0226289709503202 and accuracy for the testing 0.9079628095123551\n",
      "\n",
      "\n",
      "At cross fold8,the cv score is 0.8826686689919152 and accuracy score for training is -1.0226289709503202 and accuracy for the testing 0.9079628095123551\n",
      "\n",
      "\n",
      "At cross fold9,the cv score is 0.8822728227103587 and accuracy score for training is -1.0226289709503202 and accuracy for the testing 0.9079628095123551\n",
      "\n",
      "\n"
     ]
    }
   ],
   "source": [
    "from sklearn.model_selection import cross_val_score \n",
    "Train_accuracy=r2_score(target_train,pred_train)\n",
    "Test_accuracy=r2_score(target_test,pred_test)\n",
    "for j in range(2,10):\n",
    "    cv_score=cross_val_score(lr,sources,target,cv=j)\n",
    "    cv_mean=cv_score.mean()\n",
    "    print(f\"At cross fold{j},the cv score is {cv_mean} and accuracy score for training is {Train_accuracy} and accuracy for the testing {Test_accuracy}\")\n",
    "    print(\"\\n\")"
   ]
  },
  {
   "cell_type": "code",
   "execution_count": 160,
   "id": "fc140d29",
   "metadata": {},
   "outputs": [
    {
     "data": {
      "text/plain": [
       "89.117418068708"
      ]
     },
     "execution_count": 160,
     "metadata": {},
     "output_type": "execute_result"
    }
   ],
   "source": [
    "cv_score=cross_val_score(ls,sources,target,cv=2)\n",
    "cv_mean=cv_score.mean()\n",
    "cv_mean*100"
   ]
  },
  {
   "cell_type": "code",
   "execution_count": 161,
   "id": "05fb50c9",
   "metadata": {},
   "outputs": [
    {
     "name": "stdout",
     "output_type": "stream",
     "text": [
      "{'criterion': 'mae', 'max_features': 'auto'}\n"
     ]
    }
   ],
   "source": [
    "from sklearn.ensemble import RandomForestRegressor\n",
    "rf=RandomForestRegressor()\n",
    "parameter={'criterion':['mse','mae'],'max_features':['auto','sqrt','log2']}\n",
    "Gscv=GridSearchCV(rf,parameter)\n",
    "Gscv.fit(sources_train,target_train)\n",
    "print (Gscv.best_params_)"
   ]
  },
  {
   "cell_type": "code",
   "execution_count": 162,
   "id": "767ad496",
   "metadata": {},
   "outputs": [
    {
     "name": "stdout",
     "output_type": "stream",
     "text": [
      "R2 Score: 98.92670686491431\n",
      "Cross Val Score: 97.20707713933425\n"
     ]
    }
   ],
   "source": [
    "rf=RandomForestRegressor(criterion=\"mae\",max_features=\"auto\")\n",
    "rf.fit(sources_train,target_train)\n",
    "rf.score(sources_train,target_train)\n",
    "pred_decision=rf.predict(sources_test)\n",
    "\n",
    "rfs=r2_score(target_test,pred_decision)\n",
    "print('R2 Score:',rfs*100)\n",
    "rfscore=cross_val_score(rf,sources,target,cv=2)\n",
    "rfc=rfscore.mean()\n",
    "print('Cross Val Score:',rfc*100)"
   ]
  },
  {
   "cell_type": "code",
   "execution_count": 168,
   "id": "0572f26b",
   "metadata": {},
   "outputs": [
    {
     "name": "stdout",
     "output_type": "stream",
     "text": [
      "98.92670686491431\n"
     ]
    }
   ],
   "source": [
    "import pickle \n",
    "filename= 'Sales_prediction'\n",
    "pickle.dump(rf, open(filename,'wb'))\n",
    "\n",
    "loaded_model=pickle.load(open('Sales_prediction','rb'))\n",
    "result=loaded_model.score(sources_test,target_test)\n",
    "print(result*100)"
   ]
  },
  {
   "cell_type": "code",
   "execution_count": 169,
   "id": "78bbb8c5",
   "metadata": {},
   "outputs": [
    {
     "data": {
      "text/html": [
       "<div>\n",
       "<style scoped>\n",
       "    .dataframe tbody tr th:only-of-type {\n",
       "        vertical-align: middle;\n",
       "    }\n",
       "\n",
       "    .dataframe tbody tr th {\n",
       "        vertical-align: top;\n",
       "    }\n",
       "\n",
       "    .dataframe thead th {\n",
       "        text-align: right;\n",
       "    }\n",
       "</style>\n",
       "<table border=\"1\" class=\"dataframe\">\n",
       "  <thead>\n",
       "    <tr style=\"text-align: right;\">\n",
       "      <th></th>\n",
       "      <th>0</th>\n",
       "      <th>1</th>\n",
       "      <th>2</th>\n",
       "      <th>3</th>\n",
       "      <th>4</th>\n",
       "      <th>5</th>\n",
       "      <th>6</th>\n",
       "      <th>7</th>\n",
       "      <th>8</th>\n",
       "      <th>9</th>\n",
       "      <th>...</th>\n",
       "      <th>40</th>\n",
       "      <th>41</th>\n",
       "      <th>42</th>\n",
       "      <th>43</th>\n",
       "      <th>44</th>\n",
       "      <th>45</th>\n",
       "      <th>46</th>\n",
       "      <th>47</th>\n",
       "      <th>48</th>\n",
       "      <th>49</th>\n",
       "    </tr>\n",
       "  </thead>\n",
       "  <tbody>\n",
       "    <tr>\n",
       "      <th>Predicted</th>\n",
       "      <td>10.316</td>\n",
       "      <td>13.583</td>\n",
       "      <td>11.57</td>\n",
       "      <td>14.593</td>\n",
       "      <td>21.854</td>\n",
       "      <td>8.645</td>\n",
       "      <td>20.427</td>\n",
       "      <td>11.818</td>\n",
       "      <td>17.854</td>\n",
       "      <td>9.986</td>\n",
       "      <td>...</td>\n",
       "      <td>4.577</td>\n",
       "      <td>12.254</td>\n",
       "      <td>12.369</td>\n",
       "      <td>20.667</td>\n",
       "      <td>8.664</td>\n",
       "      <td>11.473</td>\n",
       "      <td>6.806</td>\n",
       "      <td>13.441</td>\n",
       "      <td>21.58</td>\n",
       "      <td>18.359</td>\n",
       "    </tr>\n",
       "    <tr>\n",
       "      <th>Original</th>\n",
       "      <td>10.316</td>\n",
       "      <td>13.583</td>\n",
       "      <td>11.57</td>\n",
       "      <td>14.593</td>\n",
       "      <td>21.854</td>\n",
       "      <td>8.645</td>\n",
       "      <td>20.427</td>\n",
       "      <td>11.818</td>\n",
       "      <td>17.854</td>\n",
       "      <td>9.986</td>\n",
       "      <td>...</td>\n",
       "      <td>4.577</td>\n",
       "      <td>12.254</td>\n",
       "      <td>12.369</td>\n",
       "      <td>20.667</td>\n",
       "      <td>8.664</td>\n",
       "      <td>11.473</td>\n",
       "      <td>6.806</td>\n",
       "      <td>13.441</td>\n",
       "      <td>21.58</td>\n",
       "      <td>18.359</td>\n",
       "    </tr>\n",
       "  </tbody>\n",
       "</table>\n",
       "<p>2 rows × 50 columns</p>\n",
       "</div>"
      ],
      "text/plain": [
       "               0       1      2       3       4      5       6       7   \\\n",
       "Predicted  10.316  13.583  11.57  14.593  21.854  8.645  20.427  11.818   \n",
       "Original   10.316  13.583  11.57  14.593  21.854  8.645  20.427  11.818   \n",
       "\n",
       "               8      9   ...     40      41      42      43     44      45  \\\n",
       "Predicted  17.854  9.986  ...  4.577  12.254  12.369  20.667  8.664  11.473   \n",
       "Original   17.854  9.986  ...  4.577  12.254  12.369  20.667  8.664  11.473   \n",
       "\n",
       "              46      47     48      49  \n",
       "Predicted  6.806  13.441  21.58  18.359  \n",
       "Original   6.806  13.441  21.58  18.359  \n",
       "\n",
       "[2 rows x 50 columns]"
      ]
     },
     "execution_count": 169,
     "metadata": {},
     "output_type": "execute_result"
    }
   ],
   "source": [
    "conclusion=pd.DataFrame([loaded_model.predict(sources_test)[:],pred_decision[:]],index=[\"Predicted\",\"Original\"])\n",
    "conclusion"
   ]
  },
  {
   "cell_type": "code",
   "execution_count": null,
   "id": "a074768e",
   "metadata": {},
   "outputs": [],
   "source": []
  }
 ],
 "metadata": {
  "kernelspec": {
   "display_name": "Python 3",
   "language": "python",
   "name": "python3"
  },
  "language_info": {
   "codemirror_mode": {
    "name": "ipython",
    "version": 3
   },
   "file_extension": ".py",
   "mimetype": "text/x-python",
   "name": "python",
   "nbconvert_exporter": "python",
   "pygments_lexer": "ipython3",
   "version": "3.8.8"
  }
 },
 "nbformat": 4,
 "nbformat_minor": 5
}
